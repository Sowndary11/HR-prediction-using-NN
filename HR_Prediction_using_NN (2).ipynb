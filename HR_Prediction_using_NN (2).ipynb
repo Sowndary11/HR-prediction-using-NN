{
 "cells": [
  {
   "cell_type": "markdown",
   "id": "c2133da4",
   "metadata": {
    "id": "c2133da4"
   },
   "source": [
    "## Simple Neural Network\n",
    "\n",
    "It is a simple classfication problem using HR Data.   It's an attrition prediction. The target variable is 'left'"
   ]
  },
  {
   "cell_type": "code",
   "execution_count": 2,
   "id": "_L6GHRw5YkfY",
   "metadata": {
    "colab": {
     "base_uri": "https://localhost:8080/"
    },
    "id": "_L6GHRw5YkfY",
    "outputId": "ebc2dad5-22c2-4c46-b14e-bba166078a62"
   },
   "outputs": [
    {
     "name": "stdout",
     "output_type": "stream",
     "text": [
      "Mounted at /content/drive\n"
     ]
    }
   ],
   "source": [
    "from google.colab import drive\n",
    "drive.mount('/content/drive')"
   ]
  },
  {
   "cell_type": "code",
   "execution_count": 3,
   "id": "bb707f99",
   "metadata": {
    "id": "bb707f99"
   },
   "outputs": [],
   "source": [
    "import pandas as pd\n",
    "import numpy as np\n"
   ]
  },
  {
   "cell_type": "code",
   "execution_count": 5,
   "id": "a1ea5376",
   "metadata": {
    "id": "a1ea5376"
   },
   "outputs": [],
   "source": [
    "## Reading the data\n",
    "df = pd.read_csv(\"/content/sample_data/hr_data.csv\")"
   ]
  },
  {
   "cell_type": "code",
   "execution_count": 6,
   "id": "71509a0c",
   "metadata": {
    "colab": {
     "base_uri": "https://localhost:8080/"
    },
    "id": "71509a0c",
    "outputId": "22e10e23-97a7-4115-f8db-cecf2c1dd655"
   },
   "outputs": [
    {
     "name": "stdout",
     "output_type": "stream",
     "text": [
      "<class 'pandas.core.frame.DataFrame'>\n",
      "RangeIndex: 14999 entries, 0 to 14998\n",
      "Data columns (total 10 columns):\n",
      " #   Column                 Non-Null Count  Dtype  \n",
      "---  ------                 --------------  -----  \n",
      " 0   satisfaction_level     14999 non-null  float64\n",
      " 1   last_evaluation        14999 non-null  float64\n",
      " 2   number_project         14999 non-null  int64  \n",
      " 3   average_montly_hours   14999 non-null  int64  \n",
      " 4   time_spend_company     14999 non-null  int64  \n",
      " 5   Work_accident          14999 non-null  int64  \n",
      " 6   left                   14999 non-null  int64  \n",
      " 7   promotion_last_5years  14999 non-null  int64  \n",
      " 8   department             14999 non-null  object \n",
      " 9   salary                 14999 non-null  object \n",
      "dtypes: float64(2), int64(6), object(2)\n",
      "memory usage: 1.1+ MB\n"
     ]
    }
   ],
   "source": [
    "df.info()"
   ]
  },
  {
   "cell_type": "code",
   "execution_count": 7,
   "id": "e20228b0",
   "metadata": {
    "colab": {
     "base_uri": "https://localhost:8080/",
     "height": 270
    },
    "id": "e20228b0",
    "outputId": "0e9b85cd-738e-448a-f75b-83c310e8456b"
   },
   "outputs": [
    {
     "data": {
      "text/html": [
       "\n",
       "  <div id=\"df-0781ceff-3b75-46c2-9ca6-db0412e27813\">\n",
       "    <div class=\"colab-df-container\">\n",
       "      <div>\n",
       "<style scoped>\n",
       "    .dataframe tbody tr th:only-of-type {\n",
       "        vertical-align: middle;\n",
       "    }\n",
       "\n",
       "    .dataframe tbody tr th {\n",
       "        vertical-align: top;\n",
       "    }\n",
       "\n",
       "    .dataframe thead th {\n",
       "        text-align: right;\n",
       "    }\n",
       "</style>\n",
       "<table border=\"1\" class=\"dataframe\">\n",
       "  <thead>\n",
       "    <tr style=\"text-align: right;\">\n",
       "      <th></th>\n",
       "      <th>satisfaction_level</th>\n",
       "      <th>last_evaluation</th>\n",
       "      <th>number_project</th>\n",
       "      <th>average_montly_hours</th>\n",
       "      <th>time_spend_company</th>\n",
       "      <th>Work_accident</th>\n",
       "      <th>left</th>\n",
       "      <th>promotion_last_5years</th>\n",
       "      <th>department</th>\n",
       "      <th>salary</th>\n",
       "    </tr>\n",
       "  </thead>\n",
       "  <tbody>\n",
       "    <tr>\n",
       "      <th>0</th>\n",
       "      <td>0.38</td>\n",
       "      <td>0.53</td>\n",
       "      <td>2</td>\n",
       "      <td>157</td>\n",
       "      <td>3</td>\n",
       "      <td>0</td>\n",
       "      <td>1</td>\n",
       "      <td>0</td>\n",
       "      <td>sales</td>\n",
       "      <td>low</td>\n",
       "    </tr>\n",
       "    <tr>\n",
       "      <th>1</th>\n",
       "      <td>0.80</td>\n",
       "      <td>0.86</td>\n",
       "      <td>5</td>\n",
       "      <td>262</td>\n",
       "      <td>6</td>\n",
       "      <td>0</td>\n",
       "      <td>1</td>\n",
       "      <td>0</td>\n",
       "      <td>sales</td>\n",
       "      <td>medium</td>\n",
       "    </tr>\n",
       "    <tr>\n",
       "      <th>2</th>\n",
       "      <td>0.11</td>\n",
       "      <td>0.88</td>\n",
       "      <td>7</td>\n",
       "      <td>272</td>\n",
       "      <td>4</td>\n",
       "      <td>0</td>\n",
       "      <td>1</td>\n",
       "      <td>0</td>\n",
       "      <td>sales</td>\n",
       "      <td>medium</td>\n",
       "    </tr>\n",
       "    <tr>\n",
       "      <th>3</th>\n",
       "      <td>0.72</td>\n",
       "      <td>0.87</td>\n",
       "      <td>5</td>\n",
       "      <td>223</td>\n",
       "      <td>5</td>\n",
       "      <td>0</td>\n",
       "      <td>1</td>\n",
       "      <td>0</td>\n",
       "      <td>sales</td>\n",
       "      <td>low</td>\n",
       "    </tr>\n",
       "    <tr>\n",
       "      <th>4</th>\n",
       "      <td>0.37</td>\n",
       "      <td>0.52</td>\n",
       "      <td>2</td>\n",
       "      <td>159</td>\n",
       "      <td>3</td>\n",
       "      <td>0</td>\n",
       "      <td>1</td>\n",
       "      <td>0</td>\n",
       "      <td>sales</td>\n",
       "      <td>low</td>\n",
       "    </tr>\n",
       "  </tbody>\n",
       "</table>\n",
       "</div>\n",
       "      <button class=\"colab-df-convert\" onclick=\"convertToInteractive('df-0781ceff-3b75-46c2-9ca6-db0412e27813')\"\n",
       "              title=\"Convert this dataframe to an interactive table.\"\n",
       "              style=\"display:none;\">\n",
       "        \n",
       "  <svg xmlns=\"http://www.w3.org/2000/svg\" height=\"24px\"viewBox=\"0 0 24 24\"\n",
       "       width=\"24px\">\n",
       "    <path d=\"M0 0h24v24H0V0z\" fill=\"none\"/>\n",
       "    <path d=\"M18.56 5.44l.94 2.06.94-2.06 2.06-.94-2.06-.94-.94-2.06-.94 2.06-2.06.94zm-11 1L8.5 8.5l.94-2.06 2.06-.94-2.06-.94L8.5 2.5l-.94 2.06-2.06.94zm10 10l.94 2.06.94-2.06 2.06-.94-2.06-.94-.94-2.06-.94 2.06-2.06.94z\"/><path d=\"M17.41 7.96l-1.37-1.37c-.4-.4-.92-.59-1.43-.59-.52 0-1.04.2-1.43.59L10.3 9.45l-7.72 7.72c-.78.78-.78 2.05 0 2.83L4 21.41c.39.39.9.59 1.41.59.51 0 1.02-.2 1.41-.59l7.78-7.78 2.81-2.81c.8-.78.8-2.07 0-2.86zM5.41 20L4 18.59l7.72-7.72 1.47 1.35L5.41 20z\"/>\n",
       "  </svg>\n",
       "      </button>\n",
       "      \n",
       "  <style>\n",
       "    .colab-df-container {\n",
       "      display:flex;\n",
       "      flex-wrap:wrap;\n",
       "      gap: 12px;\n",
       "    }\n",
       "\n",
       "    .colab-df-convert {\n",
       "      background-color: #E8F0FE;\n",
       "      border: none;\n",
       "      border-radius: 50%;\n",
       "      cursor: pointer;\n",
       "      display: none;\n",
       "      fill: #1967D2;\n",
       "      height: 32px;\n",
       "      padding: 0 0 0 0;\n",
       "      width: 32px;\n",
       "    }\n",
       "\n",
       "    .colab-df-convert:hover {\n",
       "      background-color: #E2EBFA;\n",
       "      box-shadow: 0px 1px 2px rgba(60, 64, 67, 0.3), 0px 1px 3px 1px rgba(60, 64, 67, 0.15);\n",
       "      fill: #174EA6;\n",
       "    }\n",
       "\n",
       "    [theme=dark] .colab-df-convert {\n",
       "      background-color: #3B4455;\n",
       "      fill: #D2E3FC;\n",
       "    }\n",
       "\n",
       "    [theme=dark] .colab-df-convert:hover {\n",
       "      background-color: #434B5C;\n",
       "      box-shadow: 0px 1px 3px 1px rgba(0, 0, 0, 0.15);\n",
       "      filter: drop-shadow(0px 1px 2px rgba(0, 0, 0, 0.3));\n",
       "      fill: #FFFFFF;\n",
       "    }\n",
       "  </style>\n",
       "\n",
       "      <script>\n",
       "        const buttonEl =\n",
       "          document.querySelector('#df-0781ceff-3b75-46c2-9ca6-db0412e27813 button.colab-df-convert');\n",
       "        buttonEl.style.display =\n",
       "          google.colab.kernel.accessAllowed ? 'block' : 'none';\n",
       "\n",
       "        async function convertToInteractive(key) {\n",
       "          const element = document.querySelector('#df-0781ceff-3b75-46c2-9ca6-db0412e27813');\n",
       "          const dataTable =\n",
       "            await google.colab.kernel.invokeFunction('convertToInteractive',\n",
       "                                                     [key], {});\n",
       "          if (!dataTable) return;\n",
       "\n",
       "          const docLinkHtml = 'Like what you see? Visit the ' +\n",
       "            '<a target=\"_blank\" href=https://colab.research.google.com/notebooks/data_table.ipynb>data table notebook</a>'\n",
       "            + ' to learn more about interactive tables.';\n",
       "          element.innerHTML = '';\n",
       "          dataTable['output_type'] = 'display_data';\n",
       "          await google.colab.output.renderOutput(dataTable, element);\n",
       "          const docLink = document.createElement('div');\n",
       "          docLink.innerHTML = docLinkHtml;\n",
       "          element.appendChild(docLink);\n",
       "        }\n",
       "      </script>\n",
       "    </div>\n",
       "  </div>\n",
       "  "
      ],
      "text/plain": [
       "   satisfaction_level  last_evaluation  number_project  average_montly_hours  \\\n",
       "0                0.38             0.53               2                   157   \n",
       "1                0.80             0.86               5                   262   \n",
       "2                0.11             0.88               7                   272   \n",
       "3                0.72             0.87               5                   223   \n",
       "4                0.37             0.52               2                   159   \n",
       "\n",
       "   time_spend_company  Work_accident  left  promotion_last_5years department  \\\n",
       "0                   3              0     1                      0      sales   \n",
       "1                   6              0     1                      0      sales   \n",
       "2                   4              0     1                      0      sales   \n",
       "3                   5              0     1                      0      sales   \n",
       "4                   3              0     1                      0      sales   \n",
       "\n",
       "   salary  \n",
       "0     low  \n",
       "1  medium  \n",
       "2  medium  \n",
       "3     low  \n",
       "4     low  "
      ]
     },
     "execution_count": 7,
     "metadata": {},
     "output_type": "execute_result"
    }
   ],
   "source": [
    "df.head()"
   ]
  },
  {
   "cell_type": "code",
   "execution_count": 8,
   "id": "1b1fc528",
   "metadata": {
    "colab": {
     "base_uri": "https://localhost:8080/"
    },
    "id": "1b1fc528",
    "outputId": "9ffd7299-aefc-437e-f207-eadb9c454ae6"
   },
   "outputs": [
    {
     "data": {
      "text/plain": [
       "satisfaction_level       0\n",
       "last_evaluation          0\n",
       "number_project           0\n",
       "average_montly_hours     0\n",
       "time_spend_company       0\n",
       "Work_accident            0\n",
       "left                     0\n",
       "promotion_last_5years    0\n",
       "department               0\n",
       "salary                   0\n",
       "dtype: int64"
      ]
     },
     "execution_count": 8,
     "metadata": {},
     "output_type": "execute_result"
    }
   ],
   "source": [
    "## Checking the missing values\n",
    "df.isnull().sum()\n",
    "\n",
    "## There are no missing values"
   ]
  },
  {
   "cell_type": "code",
   "execution_count": 9,
   "id": "8ee1d799",
   "metadata": {
    "colab": {
     "base_uri": "https://localhost:8080/"
    },
    "id": "8ee1d799",
    "outputId": "02802488-2d3d-4405-b8ea-e93557f07537"
   },
   "outputs": [
    {
     "data": {
      "text/plain": [
       "0    11428\n",
       "1     3571\n",
       "Name: left, dtype: int64"
      ]
     },
     "execution_count": 9,
     "metadata": {},
     "output_type": "execute_result"
    }
   ],
   "source": [
    "## Checking the target variable\n",
    "df.left.value_counts()"
   ]
  },
  {
   "cell_type": "code",
   "execution_count": 10,
   "id": "906c05da",
   "metadata": {
    "colab": {
     "base_uri": "https://localhost:8080/",
     "height": 364
    },
    "id": "906c05da",
    "outputId": "3db2af0b-fcdb-4b91-d859-e6a5cbc89907"
   },
   "outputs": [
    {
     "data": {
      "text/html": [
       "\n",
       "  <div id=\"df-b1306536-e285-41dc-8a8a-16856f5d84e7\">\n",
       "    <div class=\"colab-df-container\">\n",
       "      <div>\n",
       "<style scoped>\n",
       "    .dataframe tbody tr th:only-of-type {\n",
       "        vertical-align: middle;\n",
       "    }\n",
       "\n",
       "    .dataframe tbody tr th {\n",
       "        vertical-align: top;\n",
       "    }\n",
       "\n",
       "    .dataframe thead th {\n",
       "        text-align: right;\n",
       "    }\n",
       "</style>\n",
       "<table border=\"1\" class=\"dataframe\">\n",
       "  <thead>\n",
       "    <tr style=\"text-align: right;\">\n",
       "      <th></th>\n",
       "      <th>satisfaction_level</th>\n",
       "      <th>last_evaluation</th>\n",
       "      <th>number_project</th>\n",
       "      <th>average_montly_hours</th>\n",
       "      <th>time_spend_company</th>\n",
       "      <th>Work_accident</th>\n",
       "      <th>left</th>\n",
       "      <th>promotion_last_5years</th>\n",
       "    </tr>\n",
       "  </thead>\n",
       "  <tbody>\n",
       "    <tr>\n",
       "      <th>count</th>\n",
       "      <td>14999.000000</td>\n",
       "      <td>14999.000000</td>\n",
       "      <td>14999.000000</td>\n",
       "      <td>14999.000000</td>\n",
       "      <td>14999.000000</td>\n",
       "      <td>14999.000000</td>\n",
       "      <td>14999.000000</td>\n",
       "      <td>14999.000000</td>\n",
       "    </tr>\n",
       "    <tr>\n",
       "      <th>mean</th>\n",
       "      <td>0.612834</td>\n",
       "      <td>0.716102</td>\n",
       "      <td>3.803054</td>\n",
       "      <td>201.050337</td>\n",
       "      <td>3.498233</td>\n",
       "      <td>0.144610</td>\n",
       "      <td>0.238083</td>\n",
       "      <td>0.021268</td>\n",
       "    </tr>\n",
       "    <tr>\n",
       "      <th>std</th>\n",
       "      <td>0.248631</td>\n",
       "      <td>0.171169</td>\n",
       "      <td>1.232592</td>\n",
       "      <td>49.943099</td>\n",
       "      <td>1.460136</td>\n",
       "      <td>0.351719</td>\n",
       "      <td>0.425924</td>\n",
       "      <td>0.144281</td>\n",
       "    </tr>\n",
       "    <tr>\n",
       "      <th>min</th>\n",
       "      <td>0.090000</td>\n",
       "      <td>0.360000</td>\n",
       "      <td>2.000000</td>\n",
       "      <td>96.000000</td>\n",
       "      <td>2.000000</td>\n",
       "      <td>0.000000</td>\n",
       "      <td>0.000000</td>\n",
       "      <td>0.000000</td>\n",
       "    </tr>\n",
       "    <tr>\n",
       "      <th>25%</th>\n",
       "      <td>0.440000</td>\n",
       "      <td>0.560000</td>\n",
       "      <td>3.000000</td>\n",
       "      <td>156.000000</td>\n",
       "      <td>3.000000</td>\n",
       "      <td>0.000000</td>\n",
       "      <td>0.000000</td>\n",
       "      <td>0.000000</td>\n",
       "    </tr>\n",
       "    <tr>\n",
       "      <th>50%</th>\n",
       "      <td>0.640000</td>\n",
       "      <td>0.720000</td>\n",
       "      <td>4.000000</td>\n",
       "      <td>200.000000</td>\n",
       "      <td>3.000000</td>\n",
       "      <td>0.000000</td>\n",
       "      <td>0.000000</td>\n",
       "      <td>0.000000</td>\n",
       "    </tr>\n",
       "    <tr>\n",
       "      <th>75%</th>\n",
       "      <td>0.820000</td>\n",
       "      <td>0.870000</td>\n",
       "      <td>5.000000</td>\n",
       "      <td>245.000000</td>\n",
       "      <td>4.000000</td>\n",
       "      <td>0.000000</td>\n",
       "      <td>0.000000</td>\n",
       "      <td>0.000000</td>\n",
       "    </tr>\n",
       "    <tr>\n",
       "      <th>max</th>\n",
       "      <td>1.000000</td>\n",
       "      <td>1.000000</td>\n",
       "      <td>7.000000</td>\n",
       "      <td>310.000000</td>\n",
       "      <td>10.000000</td>\n",
       "      <td>1.000000</td>\n",
       "      <td>1.000000</td>\n",
       "      <td>1.000000</td>\n",
       "    </tr>\n",
       "  </tbody>\n",
       "</table>\n",
       "</div>\n",
       "      <button class=\"colab-df-convert\" onclick=\"convertToInteractive('df-b1306536-e285-41dc-8a8a-16856f5d84e7')\"\n",
       "              title=\"Convert this dataframe to an interactive table.\"\n",
       "              style=\"display:none;\">\n",
       "        \n",
       "  <svg xmlns=\"http://www.w3.org/2000/svg\" height=\"24px\"viewBox=\"0 0 24 24\"\n",
       "       width=\"24px\">\n",
       "    <path d=\"M0 0h24v24H0V0z\" fill=\"none\"/>\n",
       "    <path d=\"M18.56 5.44l.94 2.06.94-2.06 2.06-.94-2.06-.94-.94-2.06-.94 2.06-2.06.94zm-11 1L8.5 8.5l.94-2.06 2.06-.94-2.06-.94L8.5 2.5l-.94 2.06-2.06.94zm10 10l.94 2.06.94-2.06 2.06-.94-2.06-.94-.94-2.06-.94 2.06-2.06.94z\"/><path d=\"M17.41 7.96l-1.37-1.37c-.4-.4-.92-.59-1.43-.59-.52 0-1.04.2-1.43.59L10.3 9.45l-7.72 7.72c-.78.78-.78 2.05 0 2.83L4 21.41c.39.39.9.59 1.41.59.51 0 1.02-.2 1.41-.59l7.78-7.78 2.81-2.81c.8-.78.8-2.07 0-2.86zM5.41 20L4 18.59l7.72-7.72 1.47 1.35L5.41 20z\"/>\n",
       "  </svg>\n",
       "      </button>\n",
       "      \n",
       "  <style>\n",
       "    .colab-df-container {\n",
       "      display:flex;\n",
       "      flex-wrap:wrap;\n",
       "      gap: 12px;\n",
       "    }\n",
       "\n",
       "    .colab-df-convert {\n",
       "      background-color: #E8F0FE;\n",
       "      border: none;\n",
       "      border-radius: 50%;\n",
       "      cursor: pointer;\n",
       "      display: none;\n",
       "      fill: #1967D2;\n",
       "      height: 32px;\n",
       "      padding: 0 0 0 0;\n",
       "      width: 32px;\n",
       "    }\n",
       "\n",
       "    .colab-df-convert:hover {\n",
       "      background-color: #E2EBFA;\n",
       "      box-shadow: 0px 1px 2px rgba(60, 64, 67, 0.3), 0px 1px 3px 1px rgba(60, 64, 67, 0.15);\n",
       "      fill: #174EA6;\n",
       "    }\n",
       "\n",
       "    [theme=dark] .colab-df-convert {\n",
       "      background-color: #3B4455;\n",
       "      fill: #D2E3FC;\n",
       "    }\n",
       "\n",
       "    [theme=dark] .colab-df-convert:hover {\n",
       "      background-color: #434B5C;\n",
       "      box-shadow: 0px 1px 3px 1px rgba(0, 0, 0, 0.15);\n",
       "      filter: drop-shadow(0px 1px 2px rgba(0, 0, 0, 0.3));\n",
       "      fill: #FFFFFF;\n",
       "    }\n",
       "  </style>\n",
       "\n",
       "      <script>\n",
       "        const buttonEl =\n",
       "          document.querySelector('#df-b1306536-e285-41dc-8a8a-16856f5d84e7 button.colab-df-convert');\n",
       "        buttonEl.style.display =\n",
       "          google.colab.kernel.accessAllowed ? 'block' : 'none';\n",
       "\n",
       "        async function convertToInteractive(key) {\n",
       "          const element = document.querySelector('#df-b1306536-e285-41dc-8a8a-16856f5d84e7');\n",
       "          const dataTable =\n",
       "            await google.colab.kernel.invokeFunction('convertToInteractive',\n",
       "                                                     [key], {});\n",
       "          if (!dataTable) return;\n",
       "\n",
       "          const docLinkHtml = 'Like what you see? Visit the ' +\n",
       "            '<a target=\"_blank\" href=https://colab.research.google.com/notebooks/data_table.ipynb>data table notebook</a>'\n",
       "            + ' to learn more about interactive tables.';\n",
       "          element.innerHTML = '';\n",
       "          dataTable['output_type'] = 'display_data';\n",
       "          await google.colab.output.renderOutput(dataTable, element);\n",
       "          const docLink = document.createElement('div');\n",
       "          docLink.innerHTML = docLinkHtml;\n",
       "          element.appendChild(docLink);\n",
       "        }\n",
       "      </script>\n",
       "    </div>\n",
       "  </div>\n",
       "  "
      ],
      "text/plain": [
       "       satisfaction_level  last_evaluation  number_project  \\\n",
       "count        14999.000000     14999.000000    14999.000000   \n",
       "mean             0.612834         0.716102        3.803054   \n",
       "std              0.248631         0.171169        1.232592   \n",
       "min              0.090000         0.360000        2.000000   \n",
       "25%              0.440000         0.560000        3.000000   \n",
       "50%              0.640000         0.720000        4.000000   \n",
       "75%              0.820000         0.870000        5.000000   \n",
       "max              1.000000         1.000000        7.000000   \n",
       "\n",
       "       average_montly_hours  time_spend_company  Work_accident          left  \\\n",
       "count          14999.000000        14999.000000   14999.000000  14999.000000   \n",
       "mean             201.050337            3.498233       0.144610      0.238083   \n",
       "std               49.943099            1.460136       0.351719      0.425924   \n",
       "min               96.000000            2.000000       0.000000      0.000000   \n",
       "25%              156.000000            3.000000       0.000000      0.000000   \n",
       "50%              200.000000            3.000000       0.000000      0.000000   \n",
       "75%              245.000000            4.000000       0.000000      0.000000   \n",
       "max              310.000000           10.000000       1.000000      1.000000   \n",
       "\n",
       "       promotion_last_5years  \n",
       "count           14999.000000  \n",
       "mean                0.021268  \n",
       "std                 0.144281  \n",
       "min                 0.000000  \n",
       "25%                 0.000000  \n",
       "50%                 0.000000  \n",
       "75%                 0.000000  \n",
       "max                 1.000000  "
      ]
     },
     "execution_count": 10,
     "metadata": {},
     "output_type": "execute_result"
    }
   ],
   "source": [
    "df.describe()"
   ]
  },
  {
   "cell_type": "markdown",
   "id": "7b55ec56",
   "metadata": {
    "id": "7b55ec56"
   },
   "source": [
    "Neural networks will accept only numerical data.  Hence we will convert all categorical data into a numerical data using get_dummeis function"
   ]
  },
  {
   "cell_type": "code",
   "execution_count": 11,
   "id": "e94f9e1f",
   "metadata": {
    "id": "e94f9e1f"
   },
   "outputs": [],
   "source": [
    "feats = ['department','salary']\n",
    "df_final = pd.get_dummies(df,columns=feats,drop_first=True)"
   ]
  },
  {
   "cell_type": "code",
   "execution_count": 12,
   "id": "d09239f7",
   "metadata": {
    "colab": {
     "base_uri": "https://localhost:8080/",
     "height": 270
    },
    "id": "d09239f7",
    "outputId": "939892c8-f86b-435a-a30d-bb2f12e04e60"
   },
   "outputs": [
    {
     "data": {
      "text/html": [
       "\n",
       "  <div id=\"df-b6e81f0a-31d9-484a-9505-58aa50fa4d0b\">\n",
       "    <div class=\"colab-df-container\">\n",
       "      <div>\n",
       "<style scoped>\n",
       "    .dataframe tbody tr th:only-of-type {\n",
       "        vertical-align: middle;\n",
       "    }\n",
       "\n",
       "    .dataframe tbody tr th {\n",
       "        vertical-align: top;\n",
       "    }\n",
       "\n",
       "    .dataframe thead th {\n",
       "        text-align: right;\n",
       "    }\n",
       "</style>\n",
       "<table border=\"1\" class=\"dataframe\">\n",
       "  <thead>\n",
       "    <tr style=\"text-align: right;\">\n",
       "      <th></th>\n",
       "      <th>satisfaction_level</th>\n",
       "      <th>last_evaluation</th>\n",
       "      <th>number_project</th>\n",
       "      <th>average_montly_hours</th>\n",
       "      <th>time_spend_company</th>\n",
       "      <th>Work_accident</th>\n",
       "      <th>left</th>\n",
       "      <th>promotion_last_5years</th>\n",
       "      <th>department_RandD</th>\n",
       "      <th>department_accounting</th>\n",
       "      <th>department_hr</th>\n",
       "      <th>department_management</th>\n",
       "      <th>department_marketing</th>\n",
       "      <th>department_product_mng</th>\n",
       "      <th>department_sales</th>\n",
       "      <th>department_support</th>\n",
       "      <th>department_technical</th>\n",
       "      <th>salary_low</th>\n",
       "      <th>salary_medium</th>\n",
       "    </tr>\n",
       "  </thead>\n",
       "  <tbody>\n",
       "    <tr>\n",
       "      <th>0</th>\n",
       "      <td>0.38</td>\n",
       "      <td>0.53</td>\n",
       "      <td>2</td>\n",
       "      <td>157</td>\n",
       "      <td>3</td>\n",
       "      <td>0</td>\n",
       "      <td>1</td>\n",
       "      <td>0</td>\n",
       "      <td>0</td>\n",
       "      <td>0</td>\n",
       "      <td>0</td>\n",
       "      <td>0</td>\n",
       "      <td>0</td>\n",
       "      <td>0</td>\n",
       "      <td>1</td>\n",
       "      <td>0</td>\n",
       "      <td>0</td>\n",
       "      <td>1</td>\n",
       "      <td>0</td>\n",
       "    </tr>\n",
       "    <tr>\n",
       "      <th>1</th>\n",
       "      <td>0.80</td>\n",
       "      <td>0.86</td>\n",
       "      <td>5</td>\n",
       "      <td>262</td>\n",
       "      <td>6</td>\n",
       "      <td>0</td>\n",
       "      <td>1</td>\n",
       "      <td>0</td>\n",
       "      <td>0</td>\n",
       "      <td>0</td>\n",
       "      <td>0</td>\n",
       "      <td>0</td>\n",
       "      <td>0</td>\n",
       "      <td>0</td>\n",
       "      <td>1</td>\n",
       "      <td>0</td>\n",
       "      <td>0</td>\n",
       "      <td>0</td>\n",
       "      <td>1</td>\n",
       "    </tr>\n",
       "    <tr>\n",
       "      <th>2</th>\n",
       "      <td>0.11</td>\n",
       "      <td>0.88</td>\n",
       "      <td>7</td>\n",
       "      <td>272</td>\n",
       "      <td>4</td>\n",
       "      <td>0</td>\n",
       "      <td>1</td>\n",
       "      <td>0</td>\n",
       "      <td>0</td>\n",
       "      <td>0</td>\n",
       "      <td>0</td>\n",
       "      <td>0</td>\n",
       "      <td>0</td>\n",
       "      <td>0</td>\n",
       "      <td>1</td>\n",
       "      <td>0</td>\n",
       "      <td>0</td>\n",
       "      <td>0</td>\n",
       "      <td>1</td>\n",
       "    </tr>\n",
       "    <tr>\n",
       "      <th>3</th>\n",
       "      <td>0.72</td>\n",
       "      <td>0.87</td>\n",
       "      <td>5</td>\n",
       "      <td>223</td>\n",
       "      <td>5</td>\n",
       "      <td>0</td>\n",
       "      <td>1</td>\n",
       "      <td>0</td>\n",
       "      <td>0</td>\n",
       "      <td>0</td>\n",
       "      <td>0</td>\n",
       "      <td>0</td>\n",
       "      <td>0</td>\n",
       "      <td>0</td>\n",
       "      <td>1</td>\n",
       "      <td>0</td>\n",
       "      <td>0</td>\n",
       "      <td>1</td>\n",
       "      <td>0</td>\n",
       "    </tr>\n",
       "    <tr>\n",
       "      <th>4</th>\n",
       "      <td>0.37</td>\n",
       "      <td>0.52</td>\n",
       "      <td>2</td>\n",
       "      <td>159</td>\n",
       "      <td>3</td>\n",
       "      <td>0</td>\n",
       "      <td>1</td>\n",
       "      <td>0</td>\n",
       "      <td>0</td>\n",
       "      <td>0</td>\n",
       "      <td>0</td>\n",
       "      <td>0</td>\n",
       "      <td>0</td>\n",
       "      <td>0</td>\n",
       "      <td>1</td>\n",
       "      <td>0</td>\n",
       "      <td>0</td>\n",
       "      <td>1</td>\n",
       "      <td>0</td>\n",
       "    </tr>\n",
       "  </tbody>\n",
       "</table>\n",
       "</div>\n",
       "      <button class=\"colab-df-convert\" onclick=\"convertToInteractive('df-b6e81f0a-31d9-484a-9505-58aa50fa4d0b')\"\n",
       "              title=\"Convert this dataframe to an interactive table.\"\n",
       "              style=\"display:none;\">\n",
       "        \n",
       "  <svg xmlns=\"http://www.w3.org/2000/svg\" height=\"24px\"viewBox=\"0 0 24 24\"\n",
       "       width=\"24px\">\n",
       "    <path d=\"M0 0h24v24H0V0z\" fill=\"none\"/>\n",
       "    <path d=\"M18.56 5.44l.94 2.06.94-2.06 2.06-.94-2.06-.94-.94-2.06-.94 2.06-2.06.94zm-11 1L8.5 8.5l.94-2.06 2.06-.94-2.06-.94L8.5 2.5l-.94 2.06-2.06.94zm10 10l.94 2.06.94-2.06 2.06-.94-2.06-.94-.94-2.06-.94 2.06-2.06.94z\"/><path d=\"M17.41 7.96l-1.37-1.37c-.4-.4-.92-.59-1.43-.59-.52 0-1.04.2-1.43.59L10.3 9.45l-7.72 7.72c-.78.78-.78 2.05 0 2.83L4 21.41c.39.39.9.59 1.41.59.51 0 1.02-.2 1.41-.59l7.78-7.78 2.81-2.81c.8-.78.8-2.07 0-2.86zM5.41 20L4 18.59l7.72-7.72 1.47 1.35L5.41 20z\"/>\n",
       "  </svg>\n",
       "      </button>\n",
       "      \n",
       "  <style>\n",
       "    .colab-df-container {\n",
       "      display:flex;\n",
       "      flex-wrap:wrap;\n",
       "      gap: 12px;\n",
       "    }\n",
       "\n",
       "    .colab-df-convert {\n",
       "      background-color: #E8F0FE;\n",
       "      border: none;\n",
       "      border-radius: 50%;\n",
       "      cursor: pointer;\n",
       "      display: none;\n",
       "      fill: #1967D2;\n",
       "      height: 32px;\n",
       "      padding: 0 0 0 0;\n",
       "      width: 32px;\n",
       "    }\n",
       "\n",
       "    .colab-df-convert:hover {\n",
       "      background-color: #E2EBFA;\n",
       "      box-shadow: 0px 1px 2px rgba(60, 64, 67, 0.3), 0px 1px 3px 1px rgba(60, 64, 67, 0.15);\n",
       "      fill: #174EA6;\n",
       "    }\n",
       "\n",
       "    [theme=dark] .colab-df-convert {\n",
       "      background-color: #3B4455;\n",
       "      fill: #D2E3FC;\n",
       "    }\n",
       "\n",
       "    [theme=dark] .colab-df-convert:hover {\n",
       "      background-color: #434B5C;\n",
       "      box-shadow: 0px 1px 3px 1px rgba(0, 0, 0, 0.15);\n",
       "      filter: drop-shadow(0px 1px 2px rgba(0, 0, 0, 0.3));\n",
       "      fill: #FFFFFF;\n",
       "    }\n",
       "  </style>\n",
       "\n",
       "      <script>\n",
       "        const buttonEl =\n",
       "          document.querySelector('#df-b6e81f0a-31d9-484a-9505-58aa50fa4d0b button.colab-df-convert');\n",
       "        buttonEl.style.display =\n",
       "          google.colab.kernel.accessAllowed ? 'block' : 'none';\n",
       "\n",
       "        async function convertToInteractive(key) {\n",
       "          const element = document.querySelector('#df-b6e81f0a-31d9-484a-9505-58aa50fa4d0b');\n",
       "          const dataTable =\n",
       "            await google.colab.kernel.invokeFunction('convertToInteractive',\n",
       "                                                     [key], {});\n",
       "          if (!dataTable) return;\n",
       "\n",
       "          const docLinkHtml = 'Like what you see? Visit the ' +\n",
       "            '<a target=\"_blank\" href=https://colab.research.google.com/notebooks/data_table.ipynb>data table notebook</a>'\n",
       "            + ' to learn more about interactive tables.';\n",
       "          element.innerHTML = '';\n",
       "          dataTable['output_type'] = 'display_data';\n",
       "          await google.colab.output.renderOutput(dataTable, element);\n",
       "          const docLink = document.createElement('div');\n",
       "          docLink.innerHTML = docLinkHtml;\n",
       "          element.appendChild(docLink);\n",
       "        }\n",
       "      </script>\n",
       "    </div>\n",
       "  </div>\n",
       "  "
      ],
      "text/plain": [
       "   satisfaction_level  last_evaluation  number_project  average_montly_hours  \\\n",
       "0                0.38             0.53               2                   157   \n",
       "1                0.80             0.86               5                   262   \n",
       "2                0.11             0.88               7                   272   \n",
       "3                0.72             0.87               5                   223   \n",
       "4                0.37             0.52               2                   159   \n",
       "\n",
       "   time_spend_company  Work_accident  left  promotion_last_5years  \\\n",
       "0                   3              0     1                      0   \n",
       "1                   6              0     1                      0   \n",
       "2                   4              0     1                      0   \n",
       "3                   5              0     1                      0   \n",
       "4                   3              0     1                      0   \n",
       "\n",
       "   department_RandD  department_accounting  department_hr  \\\n",
       "0                 0                      0              0   \n",
       "1                 0                      0              0   \n",
       "2                 0                      0              0   \n",
       "3                 0                      0              0   \n",
       "4                 0                      0              0   \n",
       "\n",
       "   department_management  department_marketing  department_product_mng  \\\n",
       "0                      0                     0                       0   \n",
       "1                      0                     0                       0   \n",
       "2                      0                     0                       0   \n",
       "3                      0                     0                       0   \n",
       "4                      0                     0                       0   \n",
       "\n",
       "   department_sales  department_support  department_technical  salary_low  \\\n",
       "0                 1                   0                     0           1   \n",
       "1                 1                   0                     0           0   \n",
       "2                 1                   0                     0           0   \n",
       "3                 1                   0                     0           1   \n",
       "4                 1                   0                     0           1   \n",
       "\n",
       "   salary_medium  \n",
       "0              0  \n",
       "1              1  \n",
       "2              1  \n",
       "3              0  \n",
       "4              0  "
      ]
     },
     "execution_count": 12,
     "metadata": {},
     "output_type": "execute_result"
    }
   ],
   "source": [
    "df_final.head()"
   ]
  },
  {
   "cell_type": "code",
   "execution_count": 13,
   "id": "8b0eedb4",
   "metadata": {
    "id": "8b0eedb4"
   },
   "outputs": [],
   "source": [
    "## Creating Independent and dependent variables\n",
    "X = df_final.drop(['left'],axis=1).values\n",
    "y = df_final['left'].values"
   ]
  },
  {
   "cell_type": "code",
   "execution_count": 14,
   "id": "2246729d",
   "metadata": {
    "id": "2246729d"
   },
   "outputs": [],
   "source": [
    "## Splitting the data\n",
    "from sklearn.model_selection import train_test_split\n",
    "X_train, X_test, y_train, y_test = train_test_split(X, y, test_size = .25)"
   ]
  },
  {
   "cell_type": "code",
   "execution_count": 15,
   "id": "b7bc9edb",
   "metadata": {
    "id": "b7bc9edb"
   },
   "outputs": [],
   "source": [
    "## Scalling the data\n",
    "from sklearn.preprocessing import StandardScaler\n",
    "sc = StandardScaler()\n",
    "X_train = sc.fit_transform(X_train)\n",
    "X_test = sc.transform(X_test)"
   ]
  },
  {
   "cell_type": "code",
   "execution_count": 16,
   "id": "66693fcb",
   "metadata": {
    "colab": {
     "base_uri": "https://localhost:8080/"
    },
    "id": "66693fcb",
    "outputId": "4ec7e9bc-03b1-472e-e944-7dc0b7303562"
   },
   "outputs": [
    {
     "data": {
      "text/plain": [
       "((11249, 18), (3750, 18))"
      ]
     },
     "execution_count": 16,
     "metadata": {},
     "output_type": "execute_result"
    }
   ],
   "source": [
    "X_train.shape, X_test.shape"
   ]
  },
  {
   "cell_type": "markdown",
   "id": "cb91a9e6",
   "metadata": {
    "id": "cb91a9e6"
   },
   "source": [
    "### Let us build an ML model"
   ]
  },
  {
   "cell_type": "code",
   "execution_count": 17,
   "id": "c7cebab2",
   "metadata": {
    "id": "c7cebab2"
   },
   "outputs": [],
   "source": [
    "from sklearn.linear_model import LogisticRegression\n",
    "lr = LogisticRegression()"
   ]
  },
  {
   "cell_type": "code",
   "execution_count": 18,
   "id": "cbb2bed8",
   "metadata": {
    "colab": {
     "base_uri": "https://localhost:8080/"
    },
    "id": "cbb2bed8",
    "outputId": "24fbe5c4-0dbe-4603-c741-4d80100aef65"
   },
   "outputs": [
    {
     "data": {
      "text/plain": [
       "LogisticRegression()"
      ]
     },
     "execution_count": 18,
     "metadata": {},
     "output_type": "execute_result"
    }
   ],
   "source": [
    "lr.fit(X_train, y_train)"
   ]
  },
  {
   "cell_type": "code",
   "execution_count": 19,
   "id": "d8a1ee2d",
   "metadata": {
    "id": "d8a1ee2d"
   },
   "outputs": [],
   "source": [
    "y_pred = lr.predict(X_test)"
   ]
  },
  {
   "cell_type": "code",
   "execution_count": 20,
   "id": "8aa5a12f",
   "metadata": {
    "colab": {
     "base_uri": "https://localhost:8080/"
    },
    "id": "8aa5a12f",
    "outputId": "8ed4b8cd-dd57-4f00-e9d7-970a972dbe2e"
   },
   "outputs": [
    {
     "name": "stdout",
     "output_type": "stream",
     "text": [
      "Accuracy Score:  79.55 %\n"
     ]
    }
   ],
   "source": [
    "from sklearn.metrics import accuracy_score, classification_report, confusion_matrix\n",
    "print('Accuracy Score: ', round(accuracy_score(y_test, y_pred)*100,2), '%')"
   ]
  },
  {
   "cell_type": "code",
   "execution_count": 21,
   "id": "0ef21d83",
   "metadata": {
    "colab": {
     "base_uri": "https://localhost:8080/"
    },
    "id": "0ef21d83",
    "outputId": "55bc8bf5-298a-4269-fb32-f998f94f1bf6"
   },
   "outputs": [
    {
     "name": "stdout",
     "output_type": "stream",
     "text": [
      "              precision    recall  f1-score   support\n",
      "\n",
      "           0       0.83      0.93      0.87      2891\n",
      "           1       0.59      0.36      0.44       859\n",
      "\n",
      "    accuracy                           0.80      3750\n",
      "   macro avg       0.71      0.64      0.66      3750\n",
      "weighted avg       0.77      0.80      0.78      3750\n",
      "\n"
     ]
    }
   ],
   "source": [
    "print(classification_report(y_test, y_pred))"
   ]
  },
  {
   "cell_type": "code",
   "execution_count": 22,
   "id": "bbff473a",
   "metadata": {
    "colab": {
     "base_uri": "https://localhost:8080/"
    },
    "id": "bbff473a",
    "outputId": "cb07faf4-3ff1-4707-f0f5-63b82a4b3100"
   },
   "outputs": [
    {
     "name": "stdout",
     "output_type": "stream",
     "text": [
      "[[2676  215]\n",
      " [ 552  307]]\n"
     ]
    }
   ],
   "source": [
    "print(confusion_matrix(y_test, y_pred))"
   ]
  },
  {
   "cell_type": "markdown",
   "id": "c24923fa",
   "metadata": {
    "id": "c24923fa"
   },
   "source": [
    "### Building the Neural Network"
   ]
  },
  {
   "cell_type": "code",
   "execution_count": 23,
   "id": "40a5f408",
   "metadata": {
    "id": "40a5f408"
   },
   "outputs": [],
   "source": [
    "## Let us import the required libraries\n",
    "import keras\n",
    "from keras.models import Sequential\n",
    "from keras.layers import Dense"
   ]
  },
  {
   "cell_type": "code",
   "execution_count": 24,
   "id": "d604084c",
   "metadata": {
    "id": "d604084c"
   },
   "outputs": [],
   "source": [
    "classifier = Sequential()  ## Instantiate the model"
   ]
  },
  {
   "cell_type": "code",
   "execution_count": null,
   "id": "wN46qAKtZrAx",
   "metadata": {
    "colab": {
     "base_uri": "https://localhost:8080/"
    },
    "id": "wN46qAKtZrAx",
    "outputId": "c3398626-bb0b-4bd2-9d6f-b11656c8a1d1"
   },
   "outputs": [
    {
     "data": {
      "text/plain": [
       "(11249, 18)"
      ]
     },
     "execution_count": 21,
     "metadata": {},
     "output_type": "execute_result"
    }
   ],
   "source": [
    "X_train.shape"
   ]
  },
  {
   "cell_type": "code",
   "execution_count": 25,
   "id": "0cbf3911",
   "metadata": {
    "id": "0cbf3911"
   },
   "outputs": [],
   "source": [
    "## Adding the layers.\n",
    "classifier.add(Dense(18, kernel_initializer = \"uniform\",activation = \"relu\", input_dim=18))  ## Input Layer\n",
    "classifier.add(Dense(9, kernel_initializer = 'uniform', activation = 'relu'))  ## Hidden Layer"
   ]
  },
  {
   "cell_type": "code",
   "execution_count": 26,
   "id": "09760dc5",
   "metadata": {
    "id": "09760dc5"
   },
   "outputs": [],
   "source": [
    "classifier.add(Dense(1, kernel_initializer = \"uniform\",activation = \"sigmoid\"))  ## Output Layer"
   ]
  },
  {
   "cell_type": "code",
   "execution_count": 27,
   "id": "4b0968db",
   "metadata": {
    "id": "4b0968db"
   },
   "outputs": [],
   "source": [
    "classifier.compile(optimizer= \"adam\",loss = \"binary_crossentropy\",metrics = [\"accuracy\"])"
   ]
  },
  {
   "cell_type": "code",
   "execution_count": 28,
   "id": "e252fbcb",
   "metadata": {
    "colab": {
     "base_uri": "https://localhost:8080/"
    },
    "id": "e252fbcb",
    "outputId": "04358634-f5e2-403c-e1da-9478d9ce3b9a"
   },
   "outputs": [
    {
     "name": "stdout",
     "output_type": "stream",
     "text": [
      "Model: \"sequential\"\n",
      "_________________________________________________________________\n",
      " Layer (type)                Output Shape              Param #   \n",
      "=================================================================\n",
      " dense (Dense)               (None, 18)                342       \n",
      "                                                                 \n",
      " dense_1 (Dense)             (None, 9)                 171       \n",
      "                                                                 \n",
      " dense_2 (Dense)             (None, 1)                 10        \n",
      "                                                                 \n",
      "=================================================================\n",
      "Total params: 523\n",
      "Trainable params: 523\n",
      "Non-trainable params: 0\n",
      "_________________________________________________________________\n"
     ]
    }
   ],
   "source": [
    "classifier.summary()"
   ]
  },
  {
   "cell_type": "code",
   "execution_count": 29,
   "id": "0b55b144",
   "metadata": {
    "colab": {
     "base_uri": "https://localhost:8080/"
    },
    "id": "0b55b144",
    "outputId": "dbdaf402-96e8-466e-a25e-fc0aa4c3e398"
   },
   "outputs": [
    {
     "name": "stdout",
     "output_type": "stream",
     "text": [
      "Epoch 1/50\n",
      "352/352 [==============================] - 4s 3ms/step - loss: 0.4758 - accuracy: 0.7583\n",
      "Epoch 2/50\n",
      "352/352 [==============================] - 1s 3ms/step - loss: 0.3105 - accuracy: 0.8532\n",
      "Epoch 3/50\n",
      "352/352 [==============================] - 1s 3ms/step - loss: 0.2518 - accuracy: 0.9213\n",
      "Epoch 4/50\n",
      "352/352 [==============================] - 1s 3ms/step - loss: 0.2211 - accuracy: 0.9306\n",
      "Epoch 5/50\n",
      "352/352 [==============================] - 1s 3ms/step - loss: 0.1968 - accuracy: 0.9374\n",
      "Epoch 6/50\n",
      "352/352 [==============================] - 1s 3ms/step - loss: 0.1781 - accuracy: 0.9468\n",
      "Epoch 7/50\n",
      "352/352 [==============================] - 1s 3ms/step - loss: 0.1663 - accuracy: 0.9518\n",
      "Epoch 8/50\n",
      "352/352 [==============================] - 1s 3ms/step - loss: 0.1577 - accuracy: 0.9558\n",
      "Epoch 9/50\n",
      "352/352 [==============================] - 1s 3ms/step - loss: 0.1516 - accuracy: 0.9574\n",
      "Epoch 10/50\n",
      "352/352 [==============================] - 1s 3ms/step - loss: 0.1456 - accuracy: 0.9605\n",
      "Epoch 11/50\n",
      "352/352 [==============================] - 1s 3ms/step - loss: 0.1416 - accuracy: 0.9606\n",
      "Epoch 12/50\n",
      "352/352 [==============================] - 1s 3ms/step - loss: 0.1380 - accuracy: 0.9613\n",
      "Epoch 13/50\n",
      "352/352 [==============================] - 1s 3ms/step - loss: 0.1346 - accuracy: 0.9626\n",
      "Epoch 14/50\n",
      "352/352 [==============================] - 1s 3ms/step - loss: 0.1320 - accuracy: 0.9635\n",
      "Epoch 15/50\n",
      "352/352 [==============================] - 1s 3ms/step - loss: 0.1300 - accuracy: 0.9652\n",
      "Epoch 16/50\n",
      "352/352 [==============================] - 1s 3ms/step - loss: 0.1281 - accuracy: 0.9638\n",
      "Epoch 17/50\n",
      "352/352 [==============================] - 1s 3ms/step - loss: 0.1264 - accuracy: 0.9644\n",
      "Epoch 18/50\n",
      "352/352 [==============================] - 1s 3ms/step - loss: 0.1241 - accuracy: 0.9660\n",
      "Epoch 19/50\n",
      "352/352 [==============================] - 1s 3ms/step - loss: 0.1231 - accuracy: 0.9656\n",
      "Epoch 20/50\n",
      "352/352 [==============================] - 1s 3ms/step - loss: 0.1217 - accuracy: 0.9660\n",
      "Epoch 21/50\n",
      "352/352 [==============================] - 1s 3ms/step - loss: 0.1207 - accuracy: 0.9661\n",
      "Epoch 22/50\n",
      "352/352 [==============================] - 1s 3ms/step - loss: 0.1192 - accuracy: 0.9653\n",
      "Epoch 23/50\n",
      "352/352 [==============================] - 1s 3ms/step - loss: 0.1183 - accuracy: 0.9670\n",
      "Epoch 24/50\n",
      "352/352 [==============================] - 1s 3ms/step - loss: 0.1171 - accuracy: 0.9668\n",
      "Epoch 25/50\n",
      "352/352 [==============================] - 1s 3ms/step - loss: 0.1162 - accuracy: 0.9666\n",
      "Epoch 26/50\n",
      "352/352 [==============================] - 1s 3ms/step - loss: 0.1151 - accuracy: 0.9679\n",
      "Epoch 27/50\n",
      "352/352 [==============================] - 1s 3ms/step - loss: 0.1144 - accuracy: 0.9686\n",
      "Epoch 28/50\n",
      "352/352 [==============================] - 1s 3ms/step - loss: 0.1131 - accuracy: 0.9678\n",
      "Epoch 29/50\n",
      "352/352 [==============================] - 1s 3ms/step - loss: 0.1125 - accuracy: 0.9676\n",
      "Epoch 30/50\n",
      "352/352 [==============================] - 1s 3ms/step - loss: 0.1116 - accuracy: 0.9681\n",
      "Epoch 31/50\n",
      "352/352 [==============================] - 1s 3ms/step - loss: 0.1107 - accuracy: 0.9682\n",
      "Epoch 32/50\n",
      "352/352 [==============================] - 1s 3ms/step - loss: 0.1101 - accuracy: 0.9683\n",
      "Epoch 33/50\n",
      "352/352 [==============================] - 1s 3ms/step - loss: 0.1088 - accuracy: 0.9688\n",
      "Epoch 34/50\n",
      "352/352 [==============================] - 1s 3ms/step - loss: 0.1083 - accuracy: 0.9697\n",
      "Epoch 35/50\n",
      "352/352 [==============================] - 1s 3ms/step - loss: 0.1080 - accuracy: 0.9689\n",
      "Epoch 36/50\n",
      "352/352 [==============================] - 1s 3ms/step - loss: 0.1068 - accuracy: 0.9684\n",
      "Epoch 37/50\n",
      "352/352 [==============================] - 1s 3ms/step - loss: 0.1066 - accuracy: 0.9696\n",
      "Epoch 38/50\n",
      "352/352 [==============================] - 1s 3ms/step - loss: 0.1058 - accuracy: 0.9695\n",
      "Epoch 39/50\n",
      "352/352 [==============================] - 1s 3ms/step - loss: 0.1055 - accuracy: 0.9693\n",
      "Epoch 40/50\n",
      "352/352 [==============================] - 1s 3ms/step - loss: 0.1053 - accuracy: 0.9699\n",
      "Epoch 41/50\n",
      "352/352 [==============================] - 1s 3ms/step - loss: 0.1040 - accuracy: 0.9708\n",
      "Epoch 42/50\n",
      "352/352 [==============================] - 1s 3ms/step - loss: 0.1043 - accuracy: 0.9704\n",
      "Epoch 43/50\n",
      "352/352 [==============================] - 1s 3ms/step - loss: 0.1035 - accuracy: 0.9704\n",
      "Epoch 44/50\n",
      "352/352 [==============================] - 1s 3ms/step - loss: 0.1029 - accuracy: 0.9694\n",
      "Epoch 45/50\n",
      "352/352 [==============================] - 1s 3ms/step - loss: 0.1034 - accuracy: 0.9700\n",
      "Epoch 46/50\n",
      "352/352 [==============================] - 1s 3ms/step - loss: 0.1027 - accuracy: 0.9708\n",
      "Epoch 47/50\n",
      "352/352 [==============================] - 1s 3ms/step - loss: 0.1017 - accuracy: 0.9699\n",
      "Epoch 48/50\n",
      "352/352 [==============================] - 1s 3ms/step - loss: 0.1016 - accuracy: 0.9697\n",
      "Epoch 49/50\n",
      "352/352 [==============================] - 1s 3ms/step - loss: 0.1020 - accuracy: 0.9700\n",
      "Epoch 50/50\n",
      "352/352 [==============================] - 1s 3ms/step - loss: 0.1003 - accuracy: 0.9707\n"
     ]
    },
    {
     "data": {
      "text/plain": [
       "<keras.callbacks.History at 0x7f8df04449d0>"
      ]
     },
     "execution_count": 29,
     "metadata": {},
     "output_type": "execute_result"
    }
   ],
   "source": [
    "classifier.fit(X_train, y_train, batch_size = 32, epochs = 50)"
   ]
  },
  {
   "cell_type": "code",
   "execution_count": 30,
   "id": "b13a99b0",
   "metadata": {
    "colab": {
     "base_uri": "https://localhost:8080/"
    },
    "id": "b13a99b0",
    "outputId": "5b21e7ca-56fe-4212-cde5-3143f958d367"
   },
   "outputs": [
    {
     "name": "stdout",
     "output_type": "stream",
     "text": [
      "118/118 [==============================] - 0s 1ms/step\n"
     ]
    }
   ],
   "source": [
    "y_pred = classifier.predict(X_test)"
   ]
  },
  {
   "cell_type": "code",
   "execution_count": null,
   "id": "ab5e04ee",
   "metadata": {
    "id": "ab5e04ee",
    "outputId": "fc38ff23-ae5b-4931-88cf-732442929cae"
   },
   "outputs": [
    {
     "data": {
      "text/plain": [
       "array([[0.02815126],\n",
       "       [0.00289732],\n",
       "       [0.00256498],\n",
       "       [0.01679473],\n",
       "       [0.00209251],\n",
       "       [0.00711509],\n",
       "       [0.02024761],\n",
       "       [0.99466705],\n",
       "       [0.99494374],\n",
       "       [0.01290044]], dtype=float32)"
      ]
     },
     "execution_count": 106,
     "metadata": {},
     "output_type": "execute_result"
    }
   ],
   "source": [
    "y_pred[:10]"
   ]
  },
  {
   "cell_type": "code",
   "execution_count": 31,
   "id": "6d72a737",
   "metadata": {
    "id": "6d72a737"
   },
   "outputs": [],
   "source": [
    "y_pred = np.round(y_pred)"
   ]
  },
  {
   "cell_type": "code",
   "execution_count": null,
   "id": "cc9d5f80",
   "metadata": {
    "id": "cc9d5f80",
    "outputId": "88001e5c-5d13-4395-cfbd-8d3b2d6116fc"
   },
   "outputs": [
    {
     "data": {
      "text/plain": [
       "array([[0.],\n",
       "       [0.],\n",
       "       [0.],\n",
       "       [0.],\n",
       "       [0.],\n",
       "       [0.],\n",
       "       [0.],\n",
       "       [1.],\n",
       "       [1.],\n",
       "       [0.]], dtype=float32)"
      ]
     },
     "execution_count": 108,
     "metadata": {},
     "output_type": "execute_result"
    }
   ],
   "source": [
    "y_pred[:10]"
   ]
  },
  {
   "cell_type": "code",
   "execution_count": 32,
   "id": "b92c8924",
   "metadata": {
    "colab": {
     "base_uri": "https://localhost:8080/"
    },
    "id": "b92c8924",
    "outputId": "10e3f4e4-fb2e-41bc-e5ed-832090121877"
   },
   "outputs": [
    {
     "data": {
      "text/plain": [
       "array([[2852,   39],\n",
       "       [  91,  768]])"
      ]
     },
     "execution_count": 32,
     "metadata": {},
     "output_type": "execute_result"
    }
   ],
   "source": [
    "from sklearn.metrics import confusion_matrix, classification_report\n",
    "cm = confusion_matrix(y_test, y_pred)\n",
    "cm\n"
   ]
  },
  {
   "cell_type": "code",
   "execution_count": 33,
   "id": "5ab284c3",
   "metadata": {
    "colab": {
     "base_uri": "https://localhost:8080/"
    },
    "id": "5ab284c3",
    "outputId": "f457d175-923a-44ae-92f1-8d111994f0e3"
   },
   "outputs": [
    {
     "name": "stdout",
     "output_type": "stream",
     "text": [
      "              precision    recall  f1-score   support\n",
      "\n",
      "           0       0.97      0.99      0.98      2891\n",
      "           1       0.95      0.89      0.92       859\n",
      "\n",
      "    accuracy                           0.97      3750\n",
      "   macro avg       0.96      0.94      0.95      3750\n",
      "weighted avg       0.97      0.97      0.96      3750\n",
      "\n"
     ]
    }
   ],
   "source": [
    "## Classification Report\n",
    "print(classification_report(y_test, y_pred))\n"
   ]
  },
  {
   "cell_type": "markdown",
   "id": "478422ee",
   "metadata": {
    "id": "478422ee"
   },
   "source": [
    "## Using validation_split"
   ]
  },
  {
   "cell_type": "code",
   "execution_count": 34,
   "id": "9b696577",
   "metadata": {
    "colab": {
     "base_uri": "https://localhost:8080/"
    },
    "id": "9b696577",
    "outputId": "b2c8ec45-d024-49a8-821d-f7b60d64903f"
   },
   "outputs": [
    {
     "name": "stdout",
     "output_type": "stream",
     "text": [
      "Epoch 1/50\n",
      "563/563 [==============================] - 2s 3ms/step - loss: 0.1054 - accuracy: 0.9687 - val_loss: 0.1079 - val_accuracy: 0.9684\n",
      "Epoch 2/50\n",
      "563/563 [==============================] - 2s 3ms/step - loss: 0.1034 - accuracy: 0.9698 - val_loss: 0.1025 - val_accuracy: 0.9680\n",
      "Epoch 3/50\n",
      "563/563 [==============================] - 2s 3ms/step - loss: 0.1025 - accuracy: 0.9697 - val_loss: 0.1043 - val_accuracy: 0.9698\n",
      "Epoch 4/50\n",
      "563/563 [==============================] - 2s 3ms/step - loss: 0.1016 - accuracy: 0.9694 - val_loss: 0.1032 - val_accuracy: 0.9711\n",
      "Epoch 5/50\n",
      "563/563 [==============================] - 2s 3ms/step - loss: 0.0992 - accuracy: 0.9707 - val_loss: 0.1038 - val_accuracy: 0.9693\n",
      "Epoch 6/50\n",
      "563/563 [==============================] - 2s 3ms/step - loss: 0.1001 - accuracy: 0.9708 - val_loss: 0.1058 - val_accuracy: 0.9684\n",
      "Epoch 7/50\n",
      "563/563 [==============================] - 2s 3ms/step - loss: 0.1003 - accuracy: 0.9707 - val_loss: 0.1067 - val_accuracy: 0.9671\n",
      "Epoch 8/50\n",
      "563/563 [==============================] - 2s 3ms/step - loss: 0.0991 - accuracy: 0.9709 - val_loss: 0.1124 - val_accuracy: 0.9658\n",
      "Epoch 9/50\n",
      "563/563 [==============================] - 2s 3ms/step - loss: 0.0996 - accuracy: 0.9700 - val_loss: 0.1078 - val_accuracy: 0.9684\n",
      "Epoch 10/50\n",
      "563/563 [==============================] - 2s 3ms/step - loss: 0.0980 - accuracy: 0.9712 - val_loss: 0.1071 - val_accuracy: 0.9671\n",
      "Epoch 11/50\n",
      "563/563 [==============================] - 2s 3ms/step - loss: 0.0977 - accuracy: 0.9721 - val_loss: 0.1075 - val_accuracy: 0.9671\n",
      "Epoch 12/50\n",
      "563/563 [==============================] - 2s 3ms/step - loss: 0.0974 - accuracy: 0.9707 - val_loss: 0.1084 - val_accuracy: 0.9684\n",
      "Epoch 13/50\n",
      "563/563 [==============================] - 2s 3ms/step - loss: 0.0970 - accuracy: 0.9709 - val_loss: 0.1088 - val_accuracy: 0.9693\n",
      "Epoch 14/50\n",
      "563/563 [==============================] - 2s 3ms/step - loss: 0.0969 - accuracy: 0.9718 - val_loss: 0.1079 - val_accuracy: 0.9676\n",
      "Epoch 15/50\n",
      "563/563 [==============================] - 2s 3ms/step - loss: 0.0963 - accuracy: 0.9716 - val_loss: 0.1077 - val_accuracy: 0.9693\n",
      "Epoch 16/50\n",
      "563/563 [==============================] - 2s 3ms/step - loss: 0.0958 - accuracy: 0.9723 - val_loss: 0.1110 - val_accuracy: 0.9693\n",
      "Epoch 17/50\n",
      "563/563 [==============================] - 2s 3ms/step - loss: 0.0958 - accuracy: 0.9710 - val_loss: 0.1111 - val_accuracy: 0.9671\n",
      "Epoch 18/50\n",
      "563/563 [==============================] - 2s 3ms/step - loss: 0.0953 - accuracy: 0.9718 - val_loss: 0.1110 - val_accuracy: 0.9689\n",
      "Epoch 19/50\n",
      "563/563 [==============================] - 2s 3ms/step - loss: 0.0943 - accuracy: 0.9721 - val_loss: 0.1106 - val_accuracy: 0.9680\n",
      "Epoch 20/50\n",
      "563/563 [==============================] - 2s 3ms/step - loss: 0.0948 - accuracy: 0.9722 - val_loss: 0.1080 - val_accuracy: 0.9702\n",
      "Epoch 21/50\n",
      "563/563 [==============================] - 2s 3ms/step - loss: 0.0944 - accuracy: 0.9717 - val_loss: 0.1074 - val_accuracy: 0.9702\n",
      "Epoch 22/50\n",
      "563/563 [==============================] - 2s 3ms/step - loss: 0.0945 - accuracy: 0.9719 - val_loss: 0.1078 - val_accuracy: 0.9702\n",
      "Epoch 23/50\n",
      "563/563 [==============================] - 2s 3ms/step - loss: 0.0931 - accuracy: 0.9726 - val_loss: 0.1102 - val_accuracy: 0.9684\n",
      "Epoch 24/50\n",
      "563/563 [==============================] - 2s 3ms/step - loss: 0.0925 - accuracy: 0.9718 - val_loss: 0.1114 - val_accuracy: 0.9684\n",
      "Epoch 25/50\n",
      "563/563 [==============================] - 2s 3ms/step - loss: 0.0932 - accuracy: 0.9728 - val_loss: 0.1091 - val_accuracy: 0.9684\n",
      "Epoch 26/50\n",
      "563/563 [==============================] - 2s 3ms/step - loss: 0.0924 - accuracy: 0.9729 - val_loss: 0.1101 - val_accuracy: 0.9671\n",
      "Epoch 27/50\n",
      "563/563 [==============================] - 2s 3ms/step - loss: 0.0918 - accuracy: 0.9730 - val_loss: 0.1082 - val_accuracy: 0.9693\n",
      "Epoch 28/50\n",
      "563/563 [==============================] - 2s 3ms/step - loss: 0.0935 - accuracy: 0.9726 - val_loss: 0.1102 - val_accuracy: 0.9680\n",
      "Epoch 29/50\n",
      "563/563 [==============================] - 2s 3ms/step - loss: 0.0907 - accuracy: 0.9732 - val_loss: 0.1103 - val_accuracy: 0.9702\n",
      "Epoch 30/50\n",
      "563/563 [==============================] - 2s 3ms/step - loss: 0.0911 - accuracy: 0.9726 - val_loss: 0.1112 - val_accuracy: 0.9711\n",
      "Epoch 31/50\n",
      "563/563 [==============================] - 2s 3ms/step - loss: 0.0920 - accuracy: 0.9723 - val_loss: 0.1165 - val_accuracy: 0.9662\n",
      "Epoch 32/50\n",
      "563/563 [==============================] - 2s 3ms/step - loss: 0.0919 - accuracy: 0.9732 - val_loss: 0.1144 - val_accuracy: 0.9693\n",
      "Epoch 33/50\n",
      "563/563 [==============================] - 2s 3ms/step - loss: 0.0907 - accuracy: 0.9723 - val_loss: 0.1122 - val_accuracy: 0.9684\n",
      "Epoch 34/50\n",
      "563/563 [==============================] - 2s 3ms/step - loss: 0.0907 - accuracy: 0.9736 - val_loss: 0.1149 - val_accuracy: 0.9693\n",
      "Epoch 35/50\n",
      "563/563 [==============================] - 2s 3ms/step - loss: 0.0905 - accuracy: 0.9741 - val_loss: 0.1112 - val_accuracy: 0.9716\n",
      "Epoch 36/50\n",
      "563/563 [==============================] - 2s 3ms/step - loss: 0.0893 - accuracy: 0.9736 - val_loss: 0.1107 - val_accuracy: 0.9711\n",
      "Epoch 37/50\n",
      "563/563 [==============================] - 2s 3ms/step - loss: 0.0894 - accuracy: 0.9729 - val_loss: 0.1145 - val_accuracy: 0.9702\n",
      "Epoch 38/50\n",
      "563/563 [==============================] - 2s 3ms/step - loss: 0.0913 - accuracy: 0.9717 - val_loss: 0.1136 - val_accuracy: 0.9698\n",
      "Epoch 39/50\n",
      "563/563 [==============================] - 2s 3ms/step - loss: 0.0904 - accuracy: 0.9718 - val_loss: 0.1149 - val_accuracy: 0.9667\n",
      "Epoch 40/50\n",
      "563/563 [==============================] - 2s 3ms/step - loss: 0.0890 - accuracy: 0.9736 - val_loss: 0.1173 - val_accuracy: 0.9671\n",
      "Epoch 41/50\n",
      "563/563 [==============================] - 2s 3ms/step - loss: 0.0892 - accuracy: 0.9731 - val_loss: 0.1158 - val_accuracy: 0.9707\n",
      "Epoch 42/50\n",
      "563/563 [==============================] - 2s 3ms/step - loss: 0.0892 - accuracy: 0.9734 - val_loss: 0.1168 - val_accuracy: 0.9667\n",
      "Epoch 43/50\n",
      "563/563 [==============================] - 2s 3ms/step - loss: 0.0900 - accuracy: 0.9719 - val_loss: 0.1150 - val_accuracy: 0.9680\n",
      "Epoch 44/50\n",
      "563/563 [==============================] - 2s 3ms/step - loss: 0.0882 - accuracy: 0.9728 - val_loss: 0.1150 - val_accuracy: 0.9667\n",
      "Epoch 45/50\n",
      "563/563 [==============================] - 2s 3ms/step - loss: 0.0885 - accuracy: 0.9739 - val_loss: 0.1143 - val_accuracy: 0.9707\n",
      "Epoch 46/50\n",
      "563/563 [==============================] - 2s 3ms/step - loss: 0.0879 - accuracy: 0.9734 - val_loss: 0.1268 - val_accuracy: 0.9636\n",
      "Epoch 47/50\n",
      "563/563 [==============================] - 2s 3ms/step - loss: 0.0890 - accuracy: 0.9729 - val_loss: 0.1185 - val_accuracy: 0.9671\n",
      "Epoch 48/50\n",
      "563/563 [==============================] - 2s 3ms/step - loss: 0.0879 - accuracy: 0.9731 - val_loss: 0.1147 - val_accuracy: 0.9698\n",
      "Epoch 49/50\n",
      "563/563 [==============================] - 2s 3ms/step - loss: 0.0868 - accuracy: 0.9738 - val_loss: 0.1169 - val_accuracy: 0.9671\n",
      "Epoch 50/50\n",
      "563/563 [==============================] - 2s 3ms/step - loss: 0.0870 - accuracy: 0.9729 - val_loss: 0.1141 - val_accuracy: 0.9680\n"
     ]
    },
    {
     "data": {
      "text/plain": [
       "<keras.callbacks.History at 0x7f8df0173990>"
      ]
     },
     "execution_count": 34,
     "metadata": {},
     "output_type": "execute_result"
    }
   ],
   "source": [
    "classifier.fit(X_train, y_train, batch_size = 16, epochs = 50, validation_split=0.2)"
   ]
  },
  {
   "cell_type": "code",
   "execution_count": 35,
   "id": "3f5fc830",
   "metadata": {
    "colab": {
     "base_uri": "https://localhost:8080/"
    },
    "id": "3f5fc830",
    "outputId": "74ab81b1-de27-460a-f8c3-50e82fdf113e"
   },
   "outputs": [
    {
     "name": "stdout",
     "output_type": "stream",
     "text": [
      "118/118 [==============================] - 0s 2ms/step - loss: 0.1214 - accuracy: 0.9667\n"
     ]
    },
    {
     "data": {
      "text/plain": [
       "[0.12137316167354584, 0.9666666388511658]"
      ]
     },
     "execution_count": 35,
     "metadata": {},
     "output_type": "execute_result"
    }
   ],
   "source": [
    "classifier.evaluate(X_test, y_test)"
   ]
  },
  {
   "cell_type": "code",
   "execution_count": 36,
   "id": "5cb20791",
   "metadata": {
    "colab": {
     "base_uri": "https://localhost:8080/"
    },
    "id": "5cb20791",
    "outputId": "b81013f5-1f3a-45ff-ed64-c623a017889d"
   },
   "outputs": [
    {
     "name": "stdout",
     "output_type": "stream",
     "text": [
      "118/118 [==============================] - 0s 1ms/step\n",
      "[[2851   40]\n",
      " [  85  774]]\n",
      "              precision    recall  f1-score   support\n",
      "\n",
      "           0       0.97      0.99      0.98      2891\n",
      "           1       0.95      0.90      0.93       859\n",
      "\n",
      "    accuracy                           0.97      3750\n",
      "   macro avg       0.96      0.94      0.95      3750\n",
      "weighted avg       0.97      0.97      0.97      3750\n",
      "\n"
     ]
    }
   ],
   "source": [
    "y_pred = classifier.predict(X_test)\n",
    "y_pred = np.round(y_pred)\n",
    "cm = confusion_matrix(y_test, y_pred)\n",
    "print(cm)\n",
    "## Classification Report\n",
    "print(classification_report(y_test, y_pred))"
   ]
  },
  {
   "cell_type": "markdown",
   "id": "049d565f",
   "metadata": {
    "id": "049d565f"
   },
   "source": [
    "## Using callbacks"
   ]
  },
  {
   "cell_type": "code",
   "execution_count": 37,
   "id": "6827b8de",
   "metadata": {
    "id": "6827b8de"
   },
   "outputs": [],
   "source": [
    "## function to plot the history of callbacks.\n",
    "def plot_loss(loss,val_loss):\n",
    "  plt.figure(figsize=(15,8))\n",
    "  plt.plot(loss)\n",
    "  plt.plot(val_loss)\n",
    "  plt.title('Model loss')\n",
    "  plt.ylabel('Loss')\n",
    "  plt.xlabel('Epoch')\n",
    "  plt.legend(['Train', 'Test'], loc='upper right')\n",
    "  plt.show()\n"
   ]
  },
  {
   "cell_type": "code",
   "execution_count": 38,
   "id": "6bcee2f5",
   "metadata": {
    "colab": {
     "base_uri": "https://localhost:8080/"
    },
    "id": "6bcee2f5",
    "outputId": "2a59606c-aebb-468d-ef16-af8f065453a4"
   },
   "outputs": [
    {
     "name": "stdout",
     "output_type": "stream",
     "text": [
      "Epoch 1/100\n",
      "704/704 [==============================] - 2s 3ms/step - loss: 0.0935 - accuracy: 0.9719 - val_loss: 0.1243 - val_accuracy: 0.9643\n",
      "Epoch 2/100\n",
      "704/704 [==============================] - 3s 5ms/step - loss: 0.0937 - accuracy: 0.9722 - val_loss: 0.1231 - val_accuracy: 0.9653\n",
      "Epoch 3/100\n",
      "704/704 [==============================] - 3s 4ms/step - loss: 0.0924 - accuracy: 0.9720 - val_loss: 0.1216 - val_accuracy: 0.9653\n",
      "Epoch 4/100\n",
      "704/704 [==============================] - 2s 3ms/step - loss: 0.0912 - accuracy: 0.9729 - val_loss: 0.1210 - val_accuracy: 0.9637\n",
      "Epoch 5/100\n",
      "704/704 [==============================] - 3s 4ms/step - loss: 0.0920 - accuracy: 0.9721 - val_loss: 0.1192 - val_accuracy: 0.9643\n",
      "Epoch 6/100\n",
      "704/704 [==============================] - 3s 4ms/step - loss: 0.0907 - accuracy: 0.9724 - val_loss: 0.1218 - val_accuracy: 0.9640\n",
      "Epoch 7/100\n",
      "704/704 [==============================] - 3s 4ms/step - loss: 0.0916 - accuracy: 0.9727 - val_loss: 0.1194 - val_accuracy: 0.9653\n",
      "Epoch 8/100\n",
      "704/704 [==============================] - 3s 4ms/step - loss: 0.0911 - accuracy: 0.9731 - val_loss: 0.1209 - val_accuracy: 0.9645\n",
      "Epoch 9/100\n",
      "704/704 [==============================] - 2s 3ms/step - loss: 0.0916 - accuracy: 0.9729 - val_loss: 0.1219 - val_accuracy: 0.9637\n",
      "Epoch 10/100\n",
      "704/704 [==============================] - 2s 3ms/step - loss: 0.0911 - accuracy: 0.9734 - val_loss: 0.1172 - val_accuracy: 0.9653\n",
      "Epoch 11/100\n",
      "704/704 [==============================] - 3s 4ms/step - loss: 0.0900 - accuracy: 0.9739 - val_loss: 0.1223 - val_accuracy: 0.9629\n",
      "Epoch 12/100\n",
      "704/704 [==============================] - 3s 4ms/step - loss: 0.0915 - accuracy: 0.9724 - val_loss: 0.1206 - val_accuracy: 0.9629\n",
      "Epoch 13/100\n",
      "704/704 [==============================] - 3s 4ms/step - loss: 0.0888 - accuracy: 0.9734 - val_loss: 0.1246 - val_accuracy: 0.9645\n",
      "Epoch 14/100\n",
      "704/704 [==============================] - 2s 3ms/step - loss: 0.0901 - accuracy: 0.9731 - val_loss: 0.1208 - val_accuracy: 0.9648\n",
      "Epoch 15/100\n",
      "704/704 [==============================] - 3s 4ms/step - loss: 0.0907 - accuracy: 0.9722 - val_loss: 0.1222 - val_accuracy: 0.9656\n",
      "Epoch 16/100\n",
      "704/704 [==============================] - 3s 4ms/step - loss: 0.0902 - accuracy: 0.9719 - val_loss: 0.1213 - val_accuracy: 0.9648\n",
      "Epoch 17/100\n",
      "704/704 [==============================] - 3s 4ms/step - loss: 0.0892 - accuracy: 0.9740 - val_loss: 0.1200 - val_accuracy: 0.9656\n",
      "Epoch 18/100\n",
      "704/704 [==============================] - 2s 3ms/step - loss: 0.0902 - accuracy: 0.9723 - val_loss: 0.1196 - val_accuracy: 0.9659\n",
      "Epoch 19/100\n",
      "704/704 [==============================] - 3s 4ms/step - loss: 0.0887 - accuracy: 0.9732 - val_loss: 0.1214 - val_accuracy: 0.9635\n",
      "Epoch 20/100\n",
      "704/704 [==============================] - 3s 4ms/step - loss: 0.0888 - accuracy: 0.9733 - val_loss: 0.1218 - val_accuracy: 0.9645\n",
      "Epoch 21/100\n",
      "704/704 [==============================] - 2s 3ms/step - loss: 0.0899 - accuracy: 0.9736 - val_loss: 0.1277 - val_accuracy: 0.9621\n",
      "Epoch 22/100\n",
      "704/704 [==============================] - 2s 3ms/step - loss: 0.0901 - accuracy: 0.9734 - val_loss: 0.1205 - val_accuracy: 0.9648\n",
      "Epoch 23/100\n",
      "704/704 [==============================] - 3s 4ms/step - loss: 0.0890 - accuracy: 0.9735 - val_loss: 0.1215 - val_accuracy: 0.9656\n",
      "Epoch 24/100\n",
      "704/704 [==============================] - 2s 3ms/step - loss: 0.0885 - accuracy: 0.9729 - val_loss: 0.1217 - val_accuracy: 0.9629\n",
      "Epoch 25/100\n",
      "704/704 [==============================] - 3s 4ms/step - loss: 0.0883 - accuracy: 0.9735 - val_loss: 0.1228 - val_accuracy: 0.9632\n",
      "Epoch 26/100\n",
      "704/704 [==============================] - 3s 4ms/step - loss: 0.0885 - accuracy: 0.9735 - val_loss: 0.1297 - val_accuracy: 0.9624\n",
      "Epoch 27/100\n",
      "704/704 [==============================] - 3s 4ms/step - loss: 0.0881 - accuracy: 0.9734 - val_loss: 0.1226 - val_accuracy: 0.9640\n",
      "Epoch 28/100\n",
      "704/704 [==============================] - 2s 3ms/step - loss: 0.0889 - accuracy: 0.9733 - val_loss: 0.1201 - val_accuracy: 0.9640\n",
      "Epoch 29/100\n",
      "704/704 [==============================] - 3s 4ms/step - loss: 0.0879 - accuracy: 0.9740 - val_loss: 0.1203 - val_accuracy: 0.9661\n",
      "Epoch 30/100\n",
      "704/704 [==============================] - 3s 4ms/step - loss: 0.0878 - accuracy: 0.9733 - val_loss: 0.1213 - val_accuracy: 0.9643\n",
      "Epoch 31/100\n",
      "704/704 [==============================] - 3s 4ms/step - loss: 0.0883 - accuracy: 0.9736 - val_loss: 0.1204 - val_accuracy: 0.9653\n",
      "Epoch 32/100\n",
      "704/704 [==============================] - 2s 3ms/step - loss: 0.0867 - accuracy: 0.9734 - val_loss: 0.1198 - val_accuracy: 0.9653\n",
      "Epoch 33/100\n",
      "704/704 [==============================] - 3s 4ms/step - loss: 0.0886 - accuracy: 0.9728 - val_loss: 0.1220 - val_accuracy: 0.9653\n",
      "Epoch 34/100\n",
      "704/704 [==============================] - 3s 4ms/step - loss: 0.0887 - accuracy: 0.9730 - val_loss: 0.1192 - val_accuracy: 0.9651\n",
      "Epoch 35/100\n",
      "704/704 [==============================] - 3s 4ms/step - loss: 0.0873 - accuracy: 0.9734 - val_loss: 0.1224 - val_accuracy: 0.9616\n",
      "Epoch 36/100\n",
      "704/704 [==============================] - 3s 4ms/step - loss: 0.0874 - accuracy: 0.9738 - val_loss: 0.1194 - val_accuracy: 0.9640\n",
      "Epoch 37/100\n",
      "704/704 [==============================] - 2s 3ms/step - loss: 0.0863 - accuracy: 0.9736 - val_loss: 0.1249 - val_accuracy: 0.9629\n",
      "Epoch 38/100\n",
      "704/704 [==============================] - 3s 4ms/step - loss: 0.0873 - accuracy: 0.9725 - val_loss: 0.1186 - val_accuracy: 0.9656\n",
      "Epoch 39/100\n",
      "704/704 [==============================] - 2s 3ms/step - loss: 0.0861 - accuracy: 0.9736 - val_loss: 0.1199 - val_accuracy: 0.9648\n",
      "Epoch 40/100\n",
      "704/704 [==============================] - 2s 3ms/step - loss: 0.0859 - accuracy: 0.9735 - val_loss: 0.1217 - val_accuracy: 0.9651\n",
      "Epoch 41/100\n",
      "704/704 [==============================] - 3s 4ms/step - loss: 0.0861 - accuracy: 0.9739 - val_loss: 0.1220 - val_accuracy: 0.9645\n",
      "Epoch 42/100\n",
      "704/704 [==============================] - 3s 4ms/step - loss: 0.0870 - accuracy: 0.9732 - val_loss: 0.1203 - val_accuracy: 0.9640\n",
      "Epoch 43/100\n",
      "704/704 [==============================] - 3s 4ms/step - loss: 0.0859 - accuracy: 0.9729 - val_loss: 0.1260 - val_accuracy: 0.9632\n",
      "Epoch 44/100\n",
      "704/704 [==============================] - 2s 3ms/step - loss: 0.0865 - accuracy: 0.9733 - val_loss: 0.1225 - val_accuracy: 0.9659\n",
      "Epoch 45/100\n",
      "704/704 [==============================] - 3s 4ms/step - loss: 0.0881 - accuracy: 0.9729 - val_loss: 0.1214 - val_accuracy: 0.9653\n",
      "Epoch 46/100\n",
      "704/704 [==============================] - 2s 3ms/step - loss: 0.0851 - accuracy: 0.9732 - val_loss: 0.1186 - val_accuracy: 0.9645\n",
      "Epoch 47/100\n",
      "704/704 [==============================] - 3s 4ms/step - loss: 0.0861 - accuracy: 0.9731 - val_loss: 0.1219 - val_accuracy: 0.9632\n",
      "Epoch 48/100\n",
      "704/704 [==============================] - 3s 4ms/step - loss: 0.0854 - accuracy: 0.9735 - val_loss: 0.1208 - val_accuracy: 0.9635\n",
      "Epoch 49/100\n",
      "704/704 [==============================] - 2s 3ms/step - loss: 0.0854 - accuracy: 0.9728 - val_loss: 0.1259 - val_accuracy: 0.9632\n",
      "Epoch 50/100\n",
      "704/704 [==============================] - 3s 4ms/step - loss: 0.0868 - accuracy: 0.9730 - val_loss: 0.1226 - val_accuracy: 0.9645\n",
      "Epoch 51/100\n",
      "704/704 [==============================] - 2s 3ms/step - loss: 0.0861 - accuracy: 0.9735 - val_loss: 0.1205 - val_accuracy: 0.9648\n",
      "Epoch 52/100\n",
      "704/704 [==============================] - 3s 4ms/step - loss: 0.0862 - accuracy: 0.9732 - val_loss: 0.1221 - val_accuracy: 0.9645\n",
      "Epoch 53/100\n",
      "704/704 [==============================] - 3s 4ms/step - loss: 0.0847 - accuracy: 0.9741 - val_loss: 0.1201 - val_accuracy: 0.9651\n",
      "Epoch 54/100\n",
      "704/704 [==============================] - 3s 4ms/step - loss: 0.0860 - accuracy: 0.9735 - val_loss: 0.1187 - val_accuracy: 0.9667\n",
      "Epoch 55/100\n",
      "704/704 [==============================] - 2s 3ms/step - loss: 0.0850 - accuracy: 0.9740 - val_loss: 0.1251 - val_accuracy: 0.9624\n",
      "Epoch 56/100\n",
      "704/704 [==============================] - 3s 4ms/step - loss: 0.0850 - accuracy: 0.9739 - val_loss: 0.1202 - val_accuracy: 0.9659\n",
      "Epoch 57/100\n",
      "704/704 [==============================] - 2s 3ms/step - loss: 0.0845 - accuracy: 0.9739 - val_loss: 0.1231 - val_accuracy: 0.9648\n",
      "Epoch 58/100\n",
      "704/704 [==============================] - 3s 4ms/step - loss: 0.0843 - accuracy: 0.9736 - val_loss: 0.1261 - val_accuracy: 0.9637\n",
      "Epoch 59/100\n",
      "704/704 [==============================] - 3s 4ms/step - loss: 0.0852 - accuracy: 0.9741 - val_loss: 0.1250 - val_accuracy: 0.9632\n",
      "Epoch 60/100\n",
      "704/704 [==============================] - 2s 3ms/step - loss: 0.0853 - accuracy: 0.9739 - val_loss: 0.1250 - val_accuracy: 0.9629\n",
      "Epoch 61/100\n",
      "704/704 [==============================] - 3s 4ms/step - loss: 0.0850 - accuracy: 0.9733 - val_loss: 0.1226 - val_accuracy: 0.9629\n",
      "Epoch 62/100\n",
      "704/704 [==============================] - 3s 4ms/step - loss: 0.0844 - accuracy: 0.9741 - val_loss: 0.1219 - val_accuracy: 0.9651\n",
      "Epoch 63/100\n",
      "704/704 [==============================] - 2s 3ms/step - loss: 0.0862 - accuracy: 0.9727 - val_loss: 0.1218 - val_accuracy: 0.9643\n",
      "Epoch 64/100\n",
      "704/704 [==============================] - 2s 3ms/step - loss: 0.0841 - accuracy: 0.9742 - val_loss: 0.1190 - val_accuracy: 0.9656\n",
      "Epoch 65/100\n",
      "704/704 [==============================] - 3s 4ms/step - loss: 0.0845 - accuracy: 0.9733 - val_loss: 0.1208 - val_accuracy: 0.9669\n",
      "Epoch 66/100\n",
      "704/704 [==============================] - 3s 4ms/step - loss: 0.0841 - accuracy: 0.9744 - val_loss: 0.1211 - val_accuracy: 0.9640\n",
      "Epoch 67/100\n",
      "704/704 [==============================] - 3s 4ms/step - loss: 0.0854 - accuracy: 0.9724 - val_loss: 0.1228 - val_accuracy: 0.9640\n",
      "Epoch 68/100\n",
      "704/704 [==============================] - 2s 3ms/step - loss: 0.0853 - accuracy: 0.9734 - val_loss: 0.1214 - val_accuracy: 0.9648\n",
      "Epoch 69/100\n",
      "704/704 [==============================] - 3s 4ms/step - loss: 0.0838 - accuracy: 0.9751 - val_loss: 0.1212 - val_accuracy: 0.9656\n",
      "Epoch 70/100\n",
      "704/704 [==============================] - 3s 4ms/step - loss: 0.0833 - accuracy: 0.9741 - val_loss: 0.1283 - val_accuracy: 0.9605\n",
      "Epoch 71/100\n",
      "704/704 [==============================] - 3s 4ms/step - loss: 0.0851 - accuracy: 0.9737 - val_loss: 0.1205 - val_accuracy: 0.9645\n",
      "Epoch 72/100\n",
      "704/704 [==============================] - 3s 4ms/step - loss: 0.0837 - accuracy: 0.9740 - val_loss: 0.1230 - val_accuracy: 0.9637\n",
      "Epoch 73/100\n",
      "704/704 [==============================] - 2s 3ms/step - loss: 0.0843 - accuracy: 0.9745 - val_loss: 0.1221 - val_accuracy: 0.9629\n",
      "Epoch 74/100\n",
      "704/704 [==============================] - 3s 4ms/step - loss: 0.0843 - accuracy: 0.9739 - val_loss: 0.1250 - val_accuracy: 0.9637\n",
      "Epoch 75/100\n",
      "704/704 [==============================] - 2s 3ms/step - loss: 0.0847 - accuracy: 0.9732 - val_loss: 0.1217 - val_accuracy: 0.9637\n",
      "Epoch 76/100\n",
      "704/704 [==============================] - 2s 3ms/step - loss: 0.0847 - accuracy: 0.9726 - val_loss: 0.1236 - val_accuracy: 0.9643\n",
      "Epoch 77/100\n",
      "704/704 [==============================] - 2s 3ms/step - loss: 0.0848 - accuracy: 0.9740 - val_loss: 0.1232 - val_accuracy: 0.9651\n",
      "Epoch 78/100\n",
      "704/704 [==============================] - 2s 3ms/step - loss: 0.0837 - accuracy: 0.9744 - val_loss: 0.1203 - val_accuracy: 0.9643\n",
      "Epoch 79/100\n",
      "704/704 [==============================] - 3s 4ms/step - loss: 0.0839 - accuracy: 0.9741 - val_loss: 0.1213 - val_accuracy: 0.9645\n",
      "Epoch 80/100\n",
      "704/704 [==============================] - 3s 4ms/step - loss: 0.0835 - accuracy: 0.9737 - val_loss: 0.1211 - val_accuracy: 0.9653\n",
      "Epoch 81/100\n",
      "704/704 [==============================] - 2s 3ms/step - loss: 0.0828 - accuracy: 0.9745 - val_loss: 0.1226 - val_accuracy: 0.9645\n",
      "Epoch 82/100\n",
      "704/704 [==============================] - 3s 4ms/step - loss: 0.0834 - accuracy: 0.9749 - val_loss: 0.1236 - val_accuracy: 0.9640\n",
      "Epoch 83/100\n",
      "704/704 [==============================] - 3s 4ms/step - loss: 0.0834 - accuracy: 0.9742 - val_loss: 0.1249 - val_accuracy: 0.9643\n",
      "Epoch 84/100\n",
      "704/704 [==============================] - 3s 4ms/step - loss: 0.0847 - accuracy: 0.9729 - val_loss: 0.1233 - val_accuracy: 0.9643\n",
      "Epoch 85/100\n",
      "704/704 [==============================] - 2s 3ms/step - loss: 0.0833 - accuracy: 0.9748 - val_loss: 0.1230 - val_accuracy: 0.9651\n",
      "Epoch 86/100\n",
      "704/704 [==============================] - 3s 4ms/step - loss: 0.0835 - accuracy: 0.9740 - val_loss: 0.1245 - val_accuracy: 0.9651\n",
      "Epoch 87/100\n",
      "704/704 [==============================] - 3s 4ms/step - loss: 0.0849 - accuracy: 0.9732 - val_loss: 0.1210 - val_accuracy: 0.9653\n",
      "Epoch 88/100\n",
      "704/704 [==============================] - 2s 3ms/step - loss: 0.0830 - accuracy: 0.9734 - val_loss: 0.1219 - val_accuracy: 0.9675\n",
      "Epoch 89/100\n",
      "704/704 [==============================] - 3s 4ms/step - loss: 0.0837 - accuracy: 0.9738 - val_loss: 0.1241 - val_accuracy: 0.9640\n",
      "Epoch 90/100\n",
      "704/704 [==============================] - 2s 3ms/step - loss: 0.0830 - accuracy: 0.9740 - val_loss: 0.1244 - val_accuracy: 0.9635\n",
      "Epoch 91/100\n",
      "704/704 [==============================] - 2s 3ms/step - loss: 0.0830 - accuracy: 0.9739 - val_loss: 0.1251 - val_accuracy: 0.9637\n",
      "Epoch 92/100\n",
      "704/704 [==============================] - 3s 4ms/step - loss: 0.0829 - accuracy: 0.9739 - val_loss: 0.1228 - val_accuracy: 0.9643\n",
      "Epoch 93/100\n",
      "704/704 [==============================] - 3s 4ms/step - loss: 0.0829 - accuracy: 0.9740 - val_loss: 0.1242 - val_accuracy: 0.9648\n",
      "Epoch 94/100\n",
      "704/704 [==============================] - 3s 4ms/step - loss: 0.0829 - accuracy: 0.9737 - val_loss: 0.1244 - val_accuracy: 0.9645\n",
      "Epoch 95/100\n",
      "704/704 [==============================] - 2s 3ms/step - loss: 0.0834 - accuracy: 0.9737 - val_loss: 0.1224 - val_accuracy: 0.9643\n",
      "Epoch 96/100\n",
      "704/704 [==============================] - 3s 4ms/step - loss: 0.0833 - accuracy: 0.9740 - val_loss: 0.1240 - val_accuracy: 0.9651\n",
      "Epoch 97/100\n",
      "704/704 [==============================] - 2s 3ms/step - loss: 0.0826 - accuracy: 0.9737 - val_loss: 0.1251 - val_accuracy: 0.9643\n",
      "Epoch 98/100\n",
      "704/704 [==============================] - 2s 3ms/step - loss: 0.0829 - accuracy: 0.9738 - val_loss: 0.1232 - val_accuracy: 0.9637\n",
      "Epoch 99/100\n",
      "704/704 [==============================] - 3s 4ms/step - loss: 0.0843 - accuracy: 0.9736 - val_loss: 0.1248 - val_accuracy: 0.9619\n",
      "Epoch 100/100\n",
      "704/704 [==============================] - 3s 4ms/step - loss: 0.0821 - accuracy: 0.9740 - val_loss: 0.1259 - val_accuracy: 0.9624\n"
     ]
    }
   ],
   "source": [
    "h_callback = classifier.fit(X_train, y_train, batch_size = 16, epochs = 100, validation_data=(X_test, y_test))"
   ]
  },
  {
   "cell_type": "code",
   "execution_count": 39,
   "id": "1cf1d101",
   "metadata": {
    "colab": {
     "base_uri": "https://localhost:8080/"
    },
    "id": "1cf1d101",
    "outputId": "323799b9-1d46-488a-ec9c-7d930f6e1105"
   },
   "outputs": [
    {
     "data": {
      "text/plain": [
       "keras.callbacks.History"
      ]
     },
     "execution_count": 39,
     "metadata": {},
     "output_type": "execute_result"
    }
   ],
   "source": [
    "type(h_callback)"
   ]
  },
  {
   "cell_type": "code",
   "execution_count": 40,
   "id": "fdfb4c71",
   "metadata": {
    "colab": {
     "base_uri": "https://localhost:8080/"
    },
    "id": "fdfb4c71",
    "outputId": "2f784ae7-7a3c-4e4d-80d2-236750f15adc"
   },
   "outputs": [
    {
     "data": {
      "text/plain": [
       "dict_keys(['loss', 'accuracy', 'val_loss', 'val_accuracy'])"
      ]
     },
     "execution_count": 40,
     "metadata": {},
     "output_type": "execute_result"
    }
   ],
   "source": [
    "h_callback.history.keys()"
   ]
  },
  {
   "cell_type": "code",
   "execution_count": 43,
   "id": "cd6733a6",
   "metadata": {
    "colab": {
     "base_uri": "https://localhost:8080/",
     "height": 513
    },
    "id": "cd6733a6",
    "outputId": "73226e0a-754b-42b5-ad3a-27f5f8bb682a"
   },
   "outputs": [
    {
     "data": {
      "image/png": "[encoded data removed]",
      "text/plain": [
       "<Figure size 1080x576 with 1 Axes>"
      ]
     },
     "metadata": {
      "needs_background": "light"
     },
     "output_type": "display_data"
    }
   ],
   "source": [
    "import  matplotlib.pyplot as plt\n",
    "# Plot train vs test loss during training\n",
    "plot_loss(h_callback.history['accuracy'], h_callback.history['val_accuracy'])\n"
   ]
  },
  {
   "cell_type": "code",
   "execution_count": 42,
   "id": "25bb00db",
   "metadata": {
    "colab": {
     "base_uri": "https://localhost:8080/"
    },
    "id": "25bb00db",
    "outputId": "0666c61a-7b0a-469c-e9d0-3c86ff2fe761"
   },
   "outputs": [
    {
     "name": "stdout",
     "output_type": "stream",
     "text": [
      "118/118 [==============================] - 0s 1ms/step\n",
      "[[2855   36]\n",
      " [ 105  754]]\n",
      "              precision    recall  f1-score   support\n",
      "\n",
      "           0       0.96      0.99      0.98      2891\n",
      "           1       0.95      0.88      0.91       859\n",
      "\n",
      "    accuracy                           0.96      3750\n",
      "   macro avg       0.96      0.93      0.95      3750\n",
      "weighted avg       0.96      0.96      0.96      3750\n",
      "\n"
     ]
    }
   ],
   "source": [
    "y_pred = classifier.predict(X_test)\n",
    "y_pred = np.round(y_pred)\n",
    "cm = confusion_matrix(y_test, y_pred)\n",
    "print(cm)\n",
    "## Classification Report\n",
    "print(classification_report(y_test, y_pred))"
   ]
  },
  {
   "cell_type": "markdown",
   "id": "686e405e",
   "metadata": {
    "id": "686e405e"
   },
   "source": [
    "### Early Stopping Callback"
   ]
  },
  {
   "cell_type": "code",
   "execution_count": 44,
   "id": "98979317",
   "metadata": {
    "id": "98979317"
   },
   "outputs": [],
   "source": [
    "## Importing the EarlyStopping call back function\n",
    "from keras.callbacks import EarlyStopping"
   ]
  },
  {
   "cell_type": "code",
   "execution_count": 45,
   "id": "1f7c04f3",
   "metadata": {
    "id": "1f7c04f3"
   },
   "outputs": [],
   "source": [
    "earlystopping = EarlyStopping(monitor='val_loss', patience=5)"
   ]
  },
  {
   "cell_type": "code",
   "execution_count": 46,
   "id": "3eadf574",
   "metadata": {
    "colab": {
     "base_uri": "https://localhost:8080/"
    },
    "id": "3eadf574",
    "outputId": "dc17ad8e-04f3-4118-97af-1523b6d8aa1b"
   },
   "outputs": [
    {
     "name": "stdout",
     "output_type": "stream",
     "text": [
      "Epoch 1/100\n",
      "704/704 [==============================] - 3s 4ms/step - loss: 0.0821 - accuracy: 0.9741 - val_loss: 0.1278 - val_accuracy: 0.9619\n",
      "Epoch 2/100\n",
      "704/704 [==============================] - 2s 3ms/step - loss: 0.0826 - accuracy: 0.9737 - val_loss: 0.1255 - val_accuracy: 0.9643\n",
      "Epoch 3/100\n",
      "704/704 [==============================] - 3s 4ms/step - loss: 0.0833 - accuracy: 0.9751 - val_loss: 0.1231 - val_accuracy: 0.9656\n",
      "Epoch 4/100\n",
      "704/704 [==============================] - 2s 3ms/step - loss: 0.0825 - accuracy: 0.9745 - val_loss: 0.1224 - val_accuracy: 0.9643\n",
      "Epoch 5/100\n",
      "704/704 [==============================] - 3s 4ms/step - loss: 0.0844 - accuracy: 0.9731 - val_loss: 0.1244 - val_accuracy: 0.9632\n",
      "Epoch 6/100\n",
      "704/704 [==============================] - 2s 3ms/step - loss: 0.0822 - accuracy: 0.9744 - val_loss: 0.1227 - val_accuracy: 0.9635\n",
      "Epoch 7/100\n",
      "704/704 [==============================] - 3s 4ms/step - loss: 0.0827 - accuracy: 0.9742 - val_loss: 0.1235 - val_accuracy: 0.9640\n",
      "Epoch 8/100\n",
      "704/704 [==============================] - 3s 4ms/step - loss: 0.0821 - accuracy: 0.9739 - val_loss: 0.1242 - val_accuracy: 0.9637\n",
      "Epoch 9/100\n",
      "704/704 [==============================] - 3s 4ms/step - loss: 0.0833 - accuracy: 0.9737 - val_loss: 0.1258 - val_accuracy: 0.9629\n"
     ]
    }
   ],
   "source": [
    "h_callback = classifier.fit(X_train, y_train, batch_size = 16, epochs = 100, validation_data=(X_test, y_test), callbacks=[earlystopping])"
   ]
  },
  {
   "cell_type": "code",
   "execution_count": 47,
   "id": "2c4c4f25",
   "metadata": {
    "colab": {
     "base_uri": "https://localhost:8080/"
    },
    "id": "2c4c4f25",
    "outputId": "c701ffe0-179e-4d6a-bfd0-d1f18e3cb637"
   },
   "outputs": [
    {
     "name": "stdout",
     "output_type": "stream",
     "text": [
      "118/118 [==============================] - 0s 2ms/step - loss: 0.1258 - accuracy: 0.9629\n"
     ]
    },
    {
     "data": {
      "text/plain": [
       "[0.12581558525562286, 0.962933361530304]"
      ]
     },
     "execution_count": 47,
     "metadata": {},
     "output_type": "execute_result"
    }
   ],
   "source": [
    "classifier.evaluate(X_test, y_test)"
   ]
  },
  {
   "cell_type": "code",
   "execution_count": 48,
   "id": "de589e11",
   "metadata": {
    "colab": {
     "base_uri": "https://localhost:8080/"
    },
    "id": "de589e11",
    "outputId": "ca4e3649-3c30-40a7-f7cc-570a09e313cc"
   },
   "outputs": [
    {
     "name": "stdout",
     "output_type": "stream",
     "text": [
      "118/118 [==============================] - 0s 1ms/step\n"
     ]
    }
   ],
   "source": [
    "y_pred = classifier.predict(X_test)"
   ]
  },
  {
   "cell_type": "code",
   "execution_count": 49,
   "id": "08b748d6",
   "metadata": {
    "id": "08b748d6"
   },
   "outputs": [],
   "source": [
    "y_pred = np.round(y_pred)"
   ]
  },
  {
   "cell_type": "code",
   "execution_count": 50,
   "id": "d3960e70",
   "metadata": {
    "colab": {
     "base_uri": "https://localhost:8080/"
    },
    "id": "d3960e70",
    "outputId": "4e59e97f-87cc-4a01-d880-4824aed35946"
   },
   "outputs": [
    {
     "name": "stdout",
     "output_type": "stream",
     "text": [
      "              precision    recall  f1-score   support\n",
      "\n",
      "           0       0.97      0.99      0.98      2891\n",
      "           1       0.95      0.88      0.92       859\n",
      "\n",
      "    accuracy                           0.96      3750\n",
      "   macro avg       0.96      0.93      0.95      3750\n",
      "weighted avg       0.96      0.96      0.96      3750\n",
      "\n"
     ]
    }
   ],
   "source": [
    "print(classification_report(y_test, y_pred))"
   ]
  },
  {
   "cell_type": "code",
   "execution_count": 51,
   "id": "5b7e0c32",
   "metadata": {
    "colab": {
     "base_uri": "https://localhost:8080/"
    },
    "id": "5b7e0c32",
    "outputId": "f25da86b-8d92-4922-fd17-d78369a48f77"
   },
   "outputs": [
    {
     "data": {
      "text/plain": [
       "array([[2853,  101],\n",
       "       [  38,  758]])"
      ]
     },
     "execution_count": 51,
     "metadata": {},
     "output_type": "execute_result"
    }
   ],
   "source": [
    "confusion_matrix(y_pred, y_test)"
   ]
  },
  {
   "cell_type": "markdown",
   "id": "VNSGgNwoyIIm",
   "metadata": {
    "id": "VNSGgNwoyIIm"
   },
   "source": [
    "### Dropoug nodes in layers\n",
    "\n",
    "It will be helpful to remove unwanted features when you have large number of features and/or adding large number of nodes."
   ]
  },
  {
   "cell_type": "code",
   "execution_count": 53,
   "id": "5c5a97b2",
   "metadata": {
    "id": "5c5a97b2"
   },
   "outputs": [],
   "source": [
    "## Importing the dropout function from keras.layers.\n",
    "from keras.layers import Dropout"
   ]
  },
  {
   "cell_type": "code",
   "execution_count": 65,
   "id": "W6p0CdNxyQC2",
   "metadata": {
    "id": "W6p0CdNxyQC2"
   },
   "outputs": [],
   "source": [
    "model = Sequential()\n",
    "model.add(Dropout(0.2, input_shape = (18,)))\n",
    "model.add(Dense(18, kernel_initializer='uniform',activation='relu'))\n",
    "model.add(Dropout(0.1))\n",
    "model.add(Dense(9, kernel_initializer='uniform', activation='relu')) \n",
    "model.add(Dropout(0.1))\n",
    "model.add(Dense(1, kernel_initializer = \"uniform\",activation = \"sigmoid\"))  ## Output Layer"
   ]
  },
  {
   "cell_type": "code",
   "execution_count": 66,
   "id": "xARYIMb5yY1r",
   "metadata": {
    "id": "xARYIMb5yY1r"
   },
   "outputs": [],
   "source": [
    "model.compile(optimizer='adam', loss='binary_crossentropy', metrics='accuracy')"
   ]
  },
  {
   "cell_type": "code",
   "execution_count": 67,
   "id": "EP0Fg61J0dqo",
   "metadata": {
    "colab": {
     "base_uri": "https://localhost:8080/"
    },
    "id": "EP0Fg61J0dqo",
    "outputId": "954be791-9fe6-4647-d0e2-938a08d017d7"
   },
   "outputs": [
    {
     "name": "stdout",
     "output_type": "stream",
     "text": [
      "Epoch 1/50\n",
      "282/282 [==============================] - 2s 4ms/step - loss: 0.5320 - accuracy: 0.7559 - val_loss: 0.4025 - val_accuracy: 0.7707\n",
      "Epoch 2/50\n",
      "282/282 [==============================] - 1s 3ms/step - loss: 0.4194 - accuracy: 0.7560 - val_loss: 0.3572 - val_accuracy: 0.7707\n",
      "Epoch 3/50\n",
      "282/282 [==============================] - 1s 3ms/step - loss: 0.4015 - accuracy: 0.7963 - val_loss: 0.3306 - val_accuracy: 0.8573\n",
      "Epoch 4/50\n",
      "282/282 [==============================] - 1s 3ms/step - loss: 0.3930 - accuracy: 0.8230 - val_loss: 0.3168 - val_accuracy: 0.8787\n",
      "Epoch 5/50\n",
      "282/282 [==============================] - 1s 3ms/step - loss: 0.3926 - accuracy: 0.8245 - val_loss: 0.3115 - val_accuracy: 0.8867\n",
      "Epoch 6/50\n",
      "282/282 [==============================] - 1s 3ms/step - loss: 0.3804 - accuracy: 0.8358 - val_loss: 0.2991 - val_accuracy: 0.9093\n",
      "Epoch 7/50\n",
      "282/282 [==============================] - 1s 4ms/step - loss: 0.3795 - accuracy: 0.8346 - val_loss: 0.2966 - val_accuracy: 0.9062\n",
      "Epoch 8/50\n",
      "282/282 [==============================] - 1s 4ms/step - loss: 0.3749 - accuracy: 0.8419 - val_loss: 0.2890 - val_accuracy: 0.9120\n",
      "Epoch 9/50\n",
      "282/282 [==============================] - 1s 4ms/step - loss: 0.3721 - accuracy: 0.8456 - val_loss: 0.2878 - val_accuracy: 0.9116\n",
      "Epoch 10/50\n",
      "282/282 [==============================] - 1s 3ms/step - loss: 0.3683 - accuracy: 0.8452 - val_loss: 0.2803 - val_accuracy: 0.9093\n",
      "Epoch 11/50\n",
      "282/282 [==============================] - 1s 3ms/step - loss: 0.3621 - accuracy: 0.8484 - val_loss: 0.2746 - val_accuracy: 0.9124\n",
      "Epoch 12/50\n",
      "282/282 [==============================] - 1s 3ms/step - loss: 0.3580 - accuracy: 0.8542 - val_loss: 0.2678 - val_accuracy: 0.9151\n",
      "Epoch 13/50\n",
      "282/282 [==============================] - 1s 3ms/step - loss: 0.3573 - accuracy: 0.8501 - val_loss: 0.2711 - val_accuracy: 0.9058\n",
      "Epoch 14/50\n",
      "282/282 [==============================] - 1s 3ms/step - loss: 0.3557 - accuracy: 0.8524 - val_loss: 0.2692 - val_accuracy: 0.9116\n",
      "Epoch 15/50\n",
      "282/282 [==============================] - 1s 3ms/step - loss: 0.3565 - accuracy: 0.8525 - val_loss: 0.2663 - val_accuracy: 0.9124\n",
      "Epoch 16/50\n",
      "282/282 [==============================] - 1s 4ms/step - loss: 0.3627 - accuracy: 0.8463 - val_loss: 0.2747 - val_accuracy: 0.9089\n",
      "Epoch 17/50\n",
      "282/282 [==============================] - 1s 3ms/step - loss: 0.3591 - accuracy: 0.8474 - val_loss: 0.2699 - val_accuracy: 0.9120\n",
      "Epoch 18/50\n",
      "282/282 [==============================] - 1s 4ms/step - loss: 0.3533 - accuracy: 0.8485 - val_loss: 0.2709 - val_accuracy: 0.9111\n",
      "Epoch 19/50\n",
      "282/282 [==============================] - 1s 3ms/step - loss: 0.3529 - accuracy: 0.8514 - val_loss: 0.2634 - val_accuracy: 0.9098\n",
      "Epoch 20/50\n",
      "282/282 [==============================] - 1s 4ms/step - loss: 0.3504 - accuracy: 0.8563 - val_loss: 0.2599 - val_accuracy: 0.9138\n",
      "Epoch 21/50\n",
      "282/282 [==============================] - 1s 3ms/step - loss: 0.3514 - accuracy: 0.8524 - val_loss: 0.2664 - val_accuracy: 0.9111\n",
      "Epoch 22/50\n",
      "282/282 [==============================] - 1s 3ms/step - loss: 0.3527 - accuracy: 0.8486 - val_loss: 0.2700 - val_accuracy: 0.9084\n",
      "Epoch 23/50\n",
      "282/282 [==============================] - 1s 3ms/step - loss: 0.3477 - accuracy: 0.8527 - val_loss: 0.2552 - val_accuracy: 0.9173\n",
      "Epoch 24/50\n",
      "282/282 [==============================] - 1s 3ms/step - loss: 0.3567 - accuracy: 0.8486 - val_loss: 0.2640 - val_accuracy: 0.9116\n",
      "Epoch 25/50\n",
      "282/282 [==============================] - 1s 3ms/step - loss: 0.3497 - accuracy: 0.8533 - val_loss: 0.2597 - val_accuracy: 0.9124\n",
      "Epoch 26/50\n",
      "282/282 [==============================] - 1s 4ms/step - loss: 0.3500 - accuracy: 0.8557 - val_loss: 0.2652 - val_accuracy: 0.9084\n",
      "Epoch 27/50\n",
      "282/282 [==============================] - 1s 4ms/step - loss: 0.3480 - accuracy: 0.8553 - val_loss: 0.2618 - val_accuracy: 0.9120\n",
      "Epoch 28/50\n",
      "282/282 [==============================] - 1s 3ms/step - loss: 0.3540 - accuracy: 0.8495 - val_loss: 0.2638 - val_accuracy: 0.9138\n",
      "Epoch 29/50\n",
      "282/282 [==============================] - 1s 4ms/step - loss: 0.3503 - accuracy: 0.8515 - val_loss: 0.2604 - val_accuracy: 0.9142\n",
      "Epoch 30/50\n",
      "282/282 [==============================] - 1s 3ms/step - loss: 0.3386 - accuracy: 0.8580 - val_loss: 0.2577 - val_accuracy: 0.9138\n",
      "Epoch 31/50\n",
      "282/282 [==============================] - 1s 3ms/step - loss: 0.3428 - accuracy: 0.8523 - val_loss: 0.2575 - val_accuracy: 0.9098\n",
      "Epoch 32/50\n",
      "282/282 [==============================] - 1s 4ms/step - loss: 0.3472 - accuracy: 0.8555 - val_loss: 0.2600 - val_accuracy: 0.9138\n",
      "Epoch 33/50\n",
      "282/282 [==============================] - 1s 5ms/step - loss: 0.3475 - accuracy: 0.8560 - val_loss: 0.2670 - val_accuracy: 0.9093\n",
      "Epoch 34/50\n",
      "282/282 [==============================] - 2s 5ms/step - loss: 0.3431 - accuracy: 0.8559 - val_loss: 0.2535 - val_accuracy: 0.9169\n",
      "Epoch 35/50\n",
      "282/282 [==============================] - 1s 4ms/step - loss: 0.3480 - accuracy: 0.8530 - val_loss: 0.2608 - val_accuracy: 0.9111\n",
      "Epoch 36/50\n",
      "282/282 [==============================] - 1s 4ms/step - loss: 0.3467 - accuracy: 0.8562 - val_loss: 0.2652 - val_accuracy: 0.9116\n",
      "Epoch 37/50\n",
      "282/282 [==============================] - 1s 4ms/step - loss: 0.3457 - accuracy: 0.8550 - val_loss: 0.2613 - val_accuracy: 0.9133\n",
      "Epoch 38/50\n",
      "282/282 [==============================] - 1s 4ms/step - loss: 0.3469 - accuracy: 0.8522 - val_loss: 0.2555 - val_accuracy: 0.9169\n",
      "Epoch 39/50\n",
      "282/282 [==============================] - 1s 3ms/step - loss: 0.3449 - accuracy: 0.8527 - val_loss: 0.2619 - val_accuracy: 0.9173\n",
      "Epoch 40/50\n",
      "282/282 [==============================] - 1s 4ms/step - loss: 0.3534 - accuracy: 0.8482 - val_loss: 0.2644 - val_accuracy: 0.9093\n",
      "Epoch 41/50\n",
      "282/282 [==============================] - 1s 3ms/step - loss: 0.3404 - accuracy: 0.8539 - val_loss: 0.2561 - val_accuracy: 0.9124\n",
      "Epoch 42/50\n",
      "282/282 [==============================] - 1s 3ms/step - loss: 0.3462 - accuracy: 0.8510 - val_loss: 0.2616 - val_accuracy: 0.9111\n",
      "Epoch 43/50\n",
      "282/282 [==============================] - 1s 3ms/step - loss: 0.3454 - accuracy: 0.8565 - val_loss: 0.2596 - val_accuracy: 0.9124\n",
      "Epoch 44/50\n",
      "282/282 [==============================] - 1s 3ms/step - loss: 0.3405 - accuracy: 0.8574 - val_loss: 0.2671 - val_accuracy: 0.9071\n",
      "Epoch 45/50\n",
      "282/282 [==============================] - 2s 7ms/step - loss: 0.3354 - accuracy: 0.8654 - val_loss: 0.2553 - val_accuracy: 0.9142\n",
      "Epoch 46/50\n",
      "282/282 [==============================] - 2s 6ms/step - loss: 0.3487 - accuracy: 0.8541 - val_loss: 0.2682 - val_accuracy: 0.9071\n",
      "Epoch 47/50\n",
      "282/282 [==============================] - 2s 6ms/step - loss: 0.3467 - accuracy: 0.8523 - val_loss: 0.2558 - val_accuracy: 0.9164\n",
      "Epoch 48/50\n",
      "282/282 [==============================] - 1s 4ms/step - loss: 0.3390 - accuracy: 0.8570 - val_loss: 0.2581 - val_accuracy: 0.9116\n",
      "Epoch 49/50\n",
      "282/282 [==============================] - 1s 3ms/step - loss: 0.3484 - accuracy: 0.8525 - val_loss: 0.2676 - val_accuracy: 0.9071\n",
      "Epoch 50/50\n",
      "282/282 [==============================] - 1s 3ms/step - loss: 0.3513 - accuracy: 0.8507 - val_loss: 0.2673 - val_accuracy: 0.9053\n"
     ]
    },
    {
     "data": {
      "text/plain": [
       "<keras.callbacks.History at 0x7f8d87686e50>"
      ]
     },
     "execution_count": 67,
     "metadata": {},
     "output_type": "execute_result"
    }
   ],
   "source": [
    "model.fit(X_train, y_train, epochs=50, validation_split=0.2)"
   ]
  },
  {
   "cell_type": "code",
   "execution_count": 68,
   "id": "QIt5KLz70l3a",
   "metadata": {
    "colab": {
     "base_uri": "https://localhost:8080/"
    },
    "id": "QIt5KLz70l3a",
    "outputId": "85c9d053-53cd-4ebc-b866-f41f4036b064"
   },
   "outputs": [
    {
     "name": "stdout",
     "output_type": "stream",
     "text": [
      "118/118 [==============================] - 0s 2ms/step - loss: 0.2698 - accuracy: 0.9008\n"
     ]
    },
    {
     "data": {
      "text/plain": [
       "[0.26978766918182373, 0.9007999897003174]"
      ]
     },
     "execution_count": 68,
     "metadata": {},
     "output_type": "execute_result"
    }
   ],
   "source": [
    "model.evaluate(X_test, y_test)"
   ]
  },
  {
   "cell_type": "code",
   "execution_count": 69,
   "id": "-PkJqfYD0-Af",
   "metadata": {
    "colab": {
     "base_uri": "https://localhost:8080/"
    },
    "id": "-PkJqfYD0-Af",
    "outputId": "2f4b1d7e-4acb-4b9f-9bc8-8806f6ca12d5"
   },
   "outputs": [
    {
     "name": "stdout",
     "output_type": "stream",
     "text": [
      "118/118 [==============================] - 0s 1ms/step\n"
     ]
    }
   ],
   "source": [
    "y_pred = np.round(model.predict(X_test))"
   ]
  },
  {
   "cell_type": "code",
   "execution_count": 70,
   "id": "twqpf50B1Cxo",
   "metadata": {
    "colab": {
     "base_uri": "https://localhost:8080/"
    },
    "id": "twqpf50B1Cxo",
    "outputId": "11a4829f-58b9-4d7e-b1f1-896bc5ba9f91"
   },
   "outputs": [
    {
     "name": "stdout",
     "output_type": "stream",
     "text": [
      "              precision    recall  f1-score   support\n",
      "\n",
      "           0       0.96      0.91      0.93      2891\n",
      "           1       0.74      0.89      0.80       859\n",
      "\n",
      "    accuracy                           0.90      3750\n",
      "   macro avg       0.85      0.90      0.87      3750\n",
      "weighted avg       0.91      0.90      0.90      3750\n",
      "\n"
     ]
    }
   ],
   "source": [
    "print(classification_report(y_test, y_pred))"
   ]
  },
  {
   "cell_type": "code",
   "execution_count": null,
   "id": "mmhHxKam1Fhc",
   "metadata": {
    "id": "mmhHxKam1Fhc"
   },
   "outputs": [],
   "source": []
  }
 ],
 "metadata": {
  "accelerator": "GPU",
  "colab": {
   "collapsed_sections": [],
   "provenance": []
  },
  "gpuClass": "standard",
  "kernelspec": {
   "display_name": "Python 3 (ipykernel)",
   "language": "python",
   "name": "python3"
  },
  "language_info": {
   "codemirror_mode": {
    "name": "ipython",
    "version": 3
   },
   "file_extension": ".py",
   "mimetype": "text/x-python",
   "name": "python",
   "nbconvert_exporter": "python",
   "pygments_lexer": "ipython3",
   "version": "3.9.12"
  }
 },
 "nbformat": 4,
 "nbformat_minor": 5
}
